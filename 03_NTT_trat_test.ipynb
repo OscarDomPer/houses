{
 "cells": [
  {
   "cell_type": "code",
   "execution_count": 1,
   "id": "19da4a84-03b7-46c8-bd54-4dcf1e97dca3",
   "metadata": {},
   "outputs": [],
   "source": [
    "import numpy as np\n",
    "import pandas as pd\n",
    "import seaborn as sns\n",
    "import matplotlib.pyplot as plt\n",
    "import statsmodels.api as sm\n",
    "from sklearn.preprocessing import MinMaxScaler\n"
   ]
  },
  {
   "cell_type": "code",
   "execution_count": null,
   "id": "17f35d57-66f8-4daf-a956-e12ec41d44a0",
   "metadata": {},
   "outputs": [],
   "source": []
  },
  {
   "cell_type": "markdown",
   "id": "c1ffb6b8-88a8-4adb-9423-dd79aa721034",
   "metadata": {},
   "source": [
    "# PREPROCESAMIENTO DEL CONJUNTO DE PRUEBA"
   ]
  },
  {
   "cell_type": "markdown",
   "id": "cd838de4-725a-4b16-8446-8ae7b33b8f74",
   "metadata": {},
   "source": [
    "Se le aplican las mismas transformaciones que al conjunto de entrenamiento, salvo casos muy concretos relacionados con datos ouliers en los que no sería correcto hacerlo."
   ]
  },
  {
   "cell_type": "code",
   "execution_count": 2,
   "id": "41e58ce2-d897-4180-b160-39495575b3a2",
   "metadata": {},
   "outputs": [],
   "source": [
    "data= pd.read_csv(\"Data/test.csv\")\n"
   ]
  },
  {
   "cell_type": "markdown",
   "id": "f17a2453-29d2-448d-b2cb-ce13eb989e14",
   "metadata": {},
   "source": [
    "## MSSubClass"
   ]
  },
  {
   "cell_type": "markdown",
   "id": "77c0c54f-a258-4d19-beca-cc2750a45820",
   "metadata": {
    "tags": []
   },
   "source": [
    "MSSubClass: Identifies the type of dwelling involved in the sale.\t\n",
    "\n",
    "        20\t1-STORY 1946 & NEWER ALL STYLES\n",
    "        30\t1-STORY 1945 & OLDER\n",
    "        40\t1-STORY W/FINISHED ATTIC ALL AGES\n",
    "        45\t1-1/2 STORY - UNFINISHED ALL AGES\n",
    "        50\t1-1/2 STORY FINISHED ALL AGES\n",
    "        60\t2-STORY 1946 & NEWER\n",
    "        70\t2-STORY 1945 & OLDER\n",
    "        75\t2-1/2 STORY ALL AGES\n",
    "        80\tSPLIT OR MULTI-LEVEL\n",
    "        85\tSPLIT FOYER\n",
    "        90\tDUPLEX - ALL STYLES AND AGES\n",
    "       120\t1-STORY PUD (Planned Unit Development) - 1946 & NEWER\n",
    "       150\t1-1/2 STORY PUD - ALL AGES\n",
    "       160\t2-STORY PUD - 1946 & NEWER\n",
    "       180\tPUD - MULTILEVEL - INCL SPLIT LEV/FOYER\n",
    "       190\t2 FAMILY CONVERSION - ALL STYLES AND AGES"
   ]
  },
  {
   "cell_type": "code",
   "execution_count": 3,
   "id": "db2ba4b1-1b87-4fe2-b8fd-1d1974b3fdd8",
   "metadata": {
    "tags": []
   },
   "outputs": [],
   "source": [
    "data['MSSubClass'] = data['MSSubClass'].replace({\n",
    "    20: '1-STORY',\n",
    "    30: '1-STORY',\n",
    "    40: '1-STORY',\n",
    "    120: '1-STORY',\n",
    "    45: '1.5-STORY',\n",
    "    50: '1.5-STORY',\n",
    "    150: '1.5-STORY',\n",
    "    60: '2-STORY',\n",
    "    70: '2-STORY',\n",
    "    160: '2-STORY',\n",
    "    75: '2.5-STORY',\n",
    "    80: 'SPLIT/MULTI-LEVEL',\n",
    "    85: 'SPLIT/MULTI-LEVEL',\n",
    "    180: 'SPLIT/MULTI-LEVEL',\n",
    "    90: 'DUPLEX',\n",
    "    190: '2 FAMILY CONVERSION'\n",
    "})\n",
    "\n",
    "cleaned_data = data.copy()\n",
    "ms_subclass_encoded = pd.get_dummies(cleaned_data['MSSubClass'], prefix='MSSubClass', drop_first=True)\n",
    "cleaned_data = cleaned_data.drop('MSSubClass', axis=1)\n",
    "cleaned_data = pd.concat([cleaned_data, ms_subclass_encoded], axis=1)\n",
    "\n"
   ]
  },
  {
   "cell_type": "code",
   "execution_count": null,
   "id": "a43c5f36-9998-42dc-964a-8739fd7088a6",
   "metadata": {},
   "outputs": [],
   "source": []
  },
  {
   "cell_type": "markdown",
   "id": "648a2f5c-ecd1-4bf2-8df5-9152f013120d",
   "metadata": {},
   "source": [
    "## MSZoning"
   ]
  },
  {
   "cell_type": "markdown",
   "id": "4bb7fcba-1bf2-47ed-8b5e-c469629633a8",
   "metadata": {},
   "source": [
    "MSZoning: Identifies the general zoning classification of the sale.\n",
    "\t\t\n",
    "       A\tAgriculture\n",
    "       C\tCommercial\n",
    "       FV\tFloating Village Residential\n",
    "       I\tIndustrial\n",
    "       RH\tResidential High Density\n",
    "       RL\tResidential Low Density\n",
    "       RP\tResidential Low Density Park \n",
    "       RM\tResidential Medium Density"
   ]
  },
  {
   "cell_type": "code",
   "execution_count": 4,
   "id": "3ba1256a-deba-4520-b5e0-c8bfc7a8d79d",
   "metadata": {
    "tags": []
   },
   "outputs": [],
   "source": [
    "mszoning_encoded = pd.get_dummies(cleaned_data['MSZoning'], prefix='MSZoning', drop_first=True)\n",
    "cleaned_data = pd.concat([cleaned_data, mszoning_encoded], axis=1)\n",
    "cleaned_data = cleaned_data.drop('MSZoning', axis=1)\n"
   ]
  },
  {
   "cell_type": "code",
   "execution_count": null,
   "id": "3380a9dc-056c-4095-a3a2-ac8410b25fc3",
   "metadata": {},
   "outputs": [],
   "source": []
  },
  {
   "cell_type": "markdown",
   "id": "25d7f22f-1f83-4765-8433-4ced1e032f25",
   "metadata": {},
   "source": [
    "## LotFrontage"
   ]
  },
  {
   "cell_type": "markdown",
   "id": "22319e45-3d88-4322-b243-334e08ebb283",
   "metadata": {},
   "source": [
    "LotFrontage: Linear feet of street connected to property"
   ]
  },
  {
   "cell_type": "code",
   "execution_count": 5,
   "id": "18eb2d8e-0e4c-4c8e-956b-1dd02aa5a529",
   "metadata": {
    "tags": []
   },
   "outputs": [],
   "source": [
    "cleaned_data['LotFrontage'].fillna(0, inplace=True)\n"
   ]
  },
  {
   "cell_type": "code",
   "execution_count": null,
   "id": "e4676243-8bca-4387-b3a6-986cedb682e4",
   "metadata": {},
   "outputs": [],
   "source": []
  },
  {
   "cell_type": "markdown",
   "id": "e7410fad-144f-4db1-be23-213fe7562e94",
   "metadata": {},
   "source": [
    "## LotArea\n"
   ]
  },
  {
   "cell_type": "markdown",
   "id": "3990d000-9205-4a42-9a73-e8951a0cb3aa",
   "metadata": {},
   "source": [
    "Lot size in square feet"
   ]
  },
  {
   "cell_type": "code",
   "execution_count": 6,
   "id": "1ba898ad-81b4-4071-ba43-9d522cc459f7",
   "metadata": {
    "tags": []
   },
   "outputs": [],
   "source": [
    "cleaned_data['LotArea'] = np.log1p(cleaned_data['LotArea'])"
   ]
  },
  {
   "cell_type": "markdown",
   "id": "35570781-7283-4312-969b-69f7bcd25a59",
   "metadata": {},
   "source": [
    "## Street\n"
   ]
  },
  {
   "cell_type": "markdown",
   "id": "44558046-7f66-4c3e-b377-ecf822e04a5c",
   "metadata": {
    "tags": []
   },
   "source": [
    "Street: Type of road access to property\n",
    "\n",
    "       Grvl\tGravel\t\n",
    "       Pave\tPaved"
   ]
  },
  {
   "cell_type": "code",
   "execution_count": 7,
   "id": "0ad97fc0-6630-4846-865b-f9504dfb9e7e",
   "metadata": {
    "tags": []
   },
   "outputs": [],
   "source": [
    "cleaned_data = cleaned_data.drop('Street', axis=1)"
   ]
  },
  {
   "cell_type": "code",
   "execution_count": null,
   "id": "4ff51808-3622-47ec-ab9f-4e7f72bfdbed",
   "metadata": {},
   "outputs": [],
   "source": []
  },
  {
   "cell_type": "markdown",
   "id": "46f75a64-9b20-4fc0-a52e-bfcc6e773f9f",
   "metadata": {
    "tags": []
   },
   "source": [
    "## Alley"
   ]
  },
  {
   "cell_type": "markdown",
   "id": "3ea90744-934e-4398-8fb1-4ac7aeb16309",
   "metadata": {
    "tags": []
   },
   "source": [
    "Alley: Type of alley access to property\n",
    "\n",
    "       Grvl\tGravel\n",
    "       Pave\tPaved\n",
    "       NA \tNo alley access"
   ]
  },
  {
   "cell_type": "code",
   "execution_count": 8,
   "id": "0870dcdc-c406-49e9-b058-cc36f17cec18",
   "metadata": {},
   "outputs": [],
   "source": [
    "cleaned_data = cleaned_data.drop('Alley', axis=1)"
   ]
  },
  {
   "cell_type": "code",
   "execution_count": null,
   "id": "311ee1a3-bc65-4ae7-a92a-48dd78959abe",
   "metadata": {},
   "outputs": [],
   "source": []
  },
  {
   "cell_type": "markdown",
   "id": "4ad797a8-76c8-404b-a967-c197bb18b07b",
   "metadata": {},
   "source": [
    "## LotShape"
   ]
  },
  {
   "cell_type": "markdown",
   "id": "3db1966c-32d4-4ee8-825e-7022ac79fcce",
   "metadata": {},
   "source": [
    "LotShape: General shape of property\n",
    "\n",
    "       Reg\tRegular\t\n",
    "       IR1\tSlightly irregular\n",
    "       IR2\tModerately Irregular\n",
    "       IR3\tIrregular\n",
    "       "
   ]
  },
  {
   "cell_type": "code",
   "execution_count": 9,
   "id": "b1e33994-739c-4f37-9db4-473919c8a508",
   "metadata": {
    "tags": []
   },
   "outputs": [],
   "source": [
    "cleaned_data['LotShape'] = cleaned_data['LotShape'].replace({'IR1': 'IR', 'IR2': 'IR', 'IR3': 'IR'})\n",
    "lotshape_encoded = pd.get_dummies(cleaned_data['LotShape'], prefix='LotShape', drop_first=True)\n",
    "cleaned_data = cleaned_data.drop('LotShape', axis=1)\n",
    "cleaned_data = pd.concat([cleaned_data, lotshape_encoded], axis=1)"
   ]
  },
  {
   "cell_type": "code",
   "execution_count": null,
   "id": "2fca29ea-0150-4ed0-9109-7c45c200956b",
   "metadata": {},
   "outputs": [],
   "source": []
  },
  {
   "cell_type": "markdown",
   "id": "7df83600-85cb-48ae-9e1d-6171e825fed2",
   "metadata": {},
   "source": [
    " ## LandContour\n"
   ]
  },
  {
   "cell_type": "markdown",
   "id": "545f2c5c-1d44-4cd4-a02e-e2faa335f93e",
   "metadata": {},
   "source": [
    "LandContour: Flatness of the property\n",
    "\n",
    "       Lvl\tNear Flat/Level\t\n",
    "       Bnk\tBanked - Quick and significant rise from street grade to building\n",
    "       HLS\tHillside - Significant slope from side to side\n",
    "       Low\tDepression"
   ]
  },
  {
   "cell_type": "code",
   "execution_count": 10,
   "id": "e7254dd2-6aae-4b7e-aae7-146e11468806",
   "metadata": {
    "tags": []
   },
   "outputs": [],
   "source": [
    "cleaned_data['LandContour'] = cleaned_data['LandContour'].replace({'Lvl': 'Lvl', 'Bnk': 'No Lvl', 'HLS': 'No Lvl', 'Low': 'No Lvl'})\n",
    "landcontour_encoded = pd.get_dummies(cleaned_data['LandContour'], prefix='LandContour', drop_first=True)\n",
    "cleaned_data = cleaned_data.drop('LandContour', axis=1)\n",
    "cleaned_data = pd.concat([cleaned_data, landcontour_encoded], axis=1)"
   ]
  },
  {
   "cell_type": "code",
   "execution_count": null,
   "id": "ed0ee30b-61e4-411f-88e2-0e14bff7fd67",
   "metadata": {},
   "outputs": [],
   "source": []
  },
  {
   "cell_type": "markdown",
   "id": "1bbd676b-e719-4c05-81c1-516469fc4cbe",
   "metadata": {
    "tags": []
   },
   "source": [
    "## Utilities"
   ]
  },
  {
   "cell_type": "markdown",
   "id": "3eabbe70-f76c-4c2e-b877-bdd38497d291",
   "metadata": {},
   "source": [
    "Utilities: Type of utilities available\n",
    "\t\t\n",
    "       AllPub\tAll public Utilities (E,G,W,& S)\t\n",
    "       NoSewr\tElectricity, Gas, and Water (Septic Tank)\n",
    "       NoSeWa\tElectricity and Gas Only\n",
    "       ELO\tElectricity only\t"
   ]
  },
  {
   "cell_type": "code",
   "execution_count": 11,
   "id": "d70de843-3474-46f2-86e7-cccd342658c6",
   "metadata": {
    "tags": []
   },
   "outputs": [],
   "source": [
    "cleaned_data = cleaned_data.drop('Utilities', axis=1)"
   ]
  },
  {
   "cell_type": "code",
   "execution_count": null,
   "id": "8bfce6b4-de49-4746-8075-76676a0d82a3",
   "metadata": {},
   "outputs": [],
   "source": []
  },
  {
   "cell_type": "markdown",
   "id": "7c93be2f-d864-478c-8e80-5fee199db42e",
   "metadata": {
    "tags": []
   },
   "source": [
    "## LotConfig"
   ]
  },
  {
   "cell_type": "markdown",
   "id": "4394de3c-e953-4e2f-bc2d-c5a71d3f9e75",
   "metadata": {},
   "source": [
    "LotConfig: Lot configuration\n",
    "\n",
    "       Inside\tInside lot\n",
    "       Corner\tCorner lot\n",
    "       CulDSac\tCul-de-sac\n",
    "       FR2\tFrontage on 2 sides of property\n",
    "       FR3\tFrontage on 3 sides of property"
   ]
  },
  {
   "cell_type": "code",
   "execution_count": 12,
   "id": "100b664e-062f-4212-b9fc-88a4e7cccfd0",
   "metadata": {
    "tags": []
   },
   "outputs": [],
   "source": [
    "lotconfig_encoded = pd.get_dummies(cleaned_data['LotConfig'], prefix='LotConfig', drop_first=True)\n",
    "cleaned_data = cleaned_data.drop('LotConfig', axis=1)\n",
    "cleaned_data = pd.concat([cleaned_data, lotconfig_encoded], axis=1)\n"
   ]
  },
  {
   "cell_type": "code",
   "execution_count": null,
   "id": "ae01625d-5a7c-49ea-94e1-068c85671122",
   "metadata": {},
   "outputs": [],
   "source": []
  },
  {
   "cell_type": "markdown",
   "id": "26fb36e1-b3df-4e10-860a-ca3e182db754",
   "metadata": {},
   "source": [
    "## LandsLope"
   ]
  },
  {
   "cell_type": "markdown",
   "id": "f76a8ae5-3e22-44fa-b8cb-54fe6898f37b",
   "metadata": {},
   "source": [
    "LandSlope: Slope of property\n",
    "\t\t\n",
    "       Gtl\tGentle slope\n",
    "       Mod\tModerate Slope\t\n",
    "       Sev\tSevere Slope"
   ]
  },
  {
   "cell_type": "code",
   "execution_count": 13,
   "id": "b5dfcb1f-746a-45f8-9d5d-f742ab4fc7d0",
   "metadata": {},
   "outputs": [],
   "source": [
    "cleaned_data['LandSlope'] = cleaned_data['LandSlope'].replace({'Gtl': 'Gtl', 'Mod': 'No Gtl', 'Sev': 'No Gtl'})\n",
    "landslope_encoded = pd.get_dummies(cleaned_data['LandSlope'], prefix='LandSlope', drop_first=True)\n",
    "cleaned_data = cleaned_data.drop('LandSlope', axis=1)\n",
    "cleaned_data = pd.concat([cleaned_data, landslope_encoded], axis=1)\n"
   ]
  },
  {
   "cell_type": "code",
   "execution_count": null,
   "id": "772a7288-802b-4a86-a03d-84eabdf80a33",
   "metadata": {},
   "outputs": [],
   "source": []
  },
  {
   "cell_type": "markdown",
   "id": "1ea29588-4d11-4c72-bb96-d0613fb16006",
   "metadata": {},
   "source": [
    "## Neighborhood"
   ]
  },
  {
   "cell_type": "markdown",
   "id": "bc1b7324-63e4-485a-b70c-73ca118e1ae6",
   "metadata": {},
   "source": [
    "Neighborhood: Physical locations within Ames city limits\n",
    "\n",
    "       Blmngtn\tBloomington Heights\n",
    "       Blueste\tBluestem\n",
    "       BrDale\tBriardale\n",
    "       BrkSide\tBrookside\n",
    "       ClearCr\tClear Creek\n",
    "       CollgCr\tCollege Creek\n",
    "       Crawfor\tCrawford\n",
    "       Edwards\tEdwards\n",
    "       Gilbert\tGilbert\n",
    "       IDOTRR\tIowa DOT and Rail Road\n",
    "       MeadowV\tMeadow Village\n",
    "       Mitchel\tMitchell\n",
    "       Names\tNorth Ames\n",
    "       NoRidge\tNorthridge\n",
    "       NPkVill\tNorthpark Villa\n",
    "       NridgHt\tNorthridge Heights\n",
    "       NWAmes\tNorthwest Ames\n",
    "       OldTown\tOld Town\n",
    "       SWISU\tSouth & West of Iowa State University\n",
    "       Sawyer\tSawyer\n",
    "       SawyerW\tSawyer West\n",
    "       Somerst\tSomerset\n",
    "       StoneBr\tStone Brook\n",
    "       Timber\tTimberland\n",
    "       Veenker\tVeenker"
   ]
  },
  {
   "cell_type": "code",
   "execution_count": 14,
   "id": "80a4d2df-21d0-4e36-a4f7-f95c423a773e",
   "metadata": {
    "tags": []
   },
   "outputs": [],
   "source": [
    "neighborhood_dict = {'Blmngtn': 'MildPrice',\n",
    " 'Blueste': 'MildPrice',\n",
    " 'BrDale': 'LowPrice',\n",
    " 'BrkSide': 'LowPrice',\n",
    " 'ClearCr': 'MildPrice',\n",
    " 'CollgCr': 'MildPrice',\n",
    " 'Crawfor': 'MildPrice',\n",
    " 'Edwards': 'LowPrice',\n",
    " 'Gilbert': 'MildPrice',\n",
    " 'IDOTRR': 'LowPrice',\n",
    " 'MeadowV': 'LowPrice',\n",
    " 'Mitchel': 'MildPrice',\n",
    " 'NAmes': 'MildPrice',\n",
    " 'NPkVill': 'MildPrice',\n",
    " 'NWAmes': 'MildPrice',\n",
    " 'NoRidge': 'HighPrice',\n",
    " 'NridgHt': 'HighPrice',\n",
    " 'OldTown': 'LowPrice',\n",
    " 'SWISU': 'MildPrice',\n",
    " 'Sawyer': 'MildPrice',\n",
    " 'SawyerW': 'MildPrice',\n",
    " 'Somerst': 'HighPrice',\n",
    " 'StoneBr': 'HighPrice',\n",
    " 'Timber': 'HighPrice',\n",
    " 'Veenker': 'HighPrice'}\n"
   ]
  },
  {
   "cell_type": "code",
   "execution_count": 15,
   "id": "c5fa42a2-bcae-4e28-ad36-1ce699adcea1",
   "metadata": {},
   "outputs": [
    {
     "data": {
      "text/plain": [
       "Neighborhood\n",
       "HighPrice    288\n",
       "LowPrice     360\n",
       "MildPrice    811\n",
       "Name: Neighborhood, dtype: int64"
      ]
     },
     "execution_count": 15,
     "metadata": {},
     "output_type": "execute_result"
    }
   ],
   "source": [
    "cleaned_data['Neighborhood'] = cleaned_data['Neighborhood'].map(neighborhood_dict)\n",
    "cleaned_data.groupby('Neighborhood')['Neighborhood'].count()"
   ]
  },
  {
   "cell_type": "code",
   "execution_count": 16,
   "id": "ad7feeb3-8c93-474d-a003-510176eaf225",
   "metadata": {
    "tags": []
   },
   "outputs": [],
   "source": [
    "price_order = {'HighPrice': 2, 'MildPrice': 1, 'LowPrice': 0}\n",
    "cleaned_data['Neighborhood'] = cleaned_data['Neighborhood'].map(price_order)"
   ]
  },
  {
   "cell_type": "code",
   "execution_count": null,
   "id": "62f801f1-745c-445a-ae9e-30cabb4df230",
   "metadata": {},
   "outputs": [],
   "source": []
  },
  {
   "cell_type": "markdown",
   "id": "c77277ee-bde4-4047-81d2-00daa7ffabb9",
   "metadata": {},
   "source": [
    "## Condition 1 y 2"
   ]
  },
  {
   "cell_type": "markdown",
   "id": "2ab6f4a3-59bd-4239-993e-1564c44e5d1d",
   "metadata": {
    "tags": []
   },
   "source": [
    "Condition1: Proximity to various conditions\n",
    "\t\n",
    "       Artery\tAdjacent to arterial street\n",
    "       Feedr\tAdjacent to feeder street\t\n",
    "       Norm\tNormal\t\n",
    "       RRNn\tWithin 200' of North-South Railroad\n",
    "       RRAn\tAdjacent to North-South Railroad\n",
    "       PosN\tNear positive off-site feature--park, greenbelt, etc.\n",
    "       PosA\tAdjacent to postive off-site feature\n",
    "       RRNe\tWithin 200' of East-West Railroad\n",
    "       RRAe\tAdjacent to East-West Railroad\n",
    "\t\n",
    "Condition2: Proximity to various conditions (if more than one is present)\n",
    "\t\t\n",
    "       Artery\tAdjacent to arterial street\n",
    "       Feedr\tAdjacent to feeder street\t\n",
    "       Norm\tNormal\t\n",
    "       RRNn\tWithin 200' of North-South Railroad\n",
    "       RRAn\tAdjacent to North-South Railroad\n",
    "       PosN\tNear positive off-site feature--park, greenbelt, etc.\n",
    "       PosA\tAdjacent to postive off-site feature\n",
    "       RRNe\tWithin 200' of East-West Railroad\n",
    "       RRAe\tAdjacent to East-West Railroad"
   ]
  },
  {
   "cell_type": "code",
   "execution_count": 17,
   "id": "528ec944-7a4a-4c2e-b0e7-0e21b27e46af",
   "metadata": {
    "tags": []
   },
   "outputs": [],
   "source": [
    "cleaned_data['Condition1'] = cleaned_data['Condition1'].replace({\n",
    "    'Norm': 'Normal',\n",
    "    'Artery': 'Street',\n",
    "    'Feedr': 'Street',\n",
    "    'RRNn': 'Railroad',\n",
    "    'RRAn': 'Railroad',\n",
    "    'PosN': 'Positive Feature',\n",
    "    'PosA': 'Positive Feature',\n",
    "    'RRNe': 'Railroad',\n",
    "    'RRAe': 'Railroad'\n",
    "})\n",
    "\n",
    "cleaned_data['Condition2'] = cleaned_data['Condition2'].replace({\n",
    "    'Norm': 'Normal',\n",
    "    'Artery': 'Street',\n",
    "    'Feedr': 'Street',\n",
    "    'RRNn': 'Railroad',\n",
    "    'RRAn': 'Railroad',\n",
    "    'PosN': 'Positive Feature',\n",
    "    'PosA': 'Positive Feature',\n",
    "    'RRNe': 'Railroad',\n",
    "    'RRAe': 'Railroad'\n",
    "})\n",
    "\n",
    "condition1_encoded = pd.get_dummies(cleaned_data['Condition1'], prefix='Condition1', drop_first=True)\n",
    "condition2_encoded = pd.get_dummies(cleaned_data['Condition2'], prefix='Condition2', drop_first=True)\n",
    "\n",
    "cleaned_data['Street_Condition'] = condition1_encoded.get('Condition1_Street', 0) + condition2_encoded.get('Condition2_Street', 0)\n",
    "cleaned_data['Railroad_Condition'] = condition1_encoded.get('Condition1_Railroad', 0) + condition2_encoded.get('Condition2_Railroad', 0)\n",
    "cleaned_data['PositiveFeature_Condition'] = condition1_encoded.get('Condition1_Positive Feature', 0) + condition2_encoded.get('Condition2_Positive Feature', 0)\n",
    "\n",
    "cleaned_data = cleaned_data.drop(columns=['Condition1'])\n",
    "cleaned_data = cleaned_data.drop(columns=['Condition2'])\n",
    "\n",
    "\n",
    "\n",
    "\n",
    "\n",
    "\n",
    "\n",
    "\n",
    "\n",
    "\n"
   ]
  },
  {
   "cell_type": "code",
   "execution_count": null,
   "id": "92efc1bd-2335-4671-ae71-6bb6f2107f2c",
   "metadata": {},
   "outputs": [],
   "source": []
  },
  {
   "cell_type": "markdown",
   "id": "833f7b5f-52ae-4e5d-b610-55f3251b973c",
   "metadata": {
    "tags": []
   },
   "source": [
    "## BldgType"
   ]
  },
  {
   "cell_type": "markdown",
   "id": "b6f44661-eb8d-492b-8ab2-9a2c64d6672e",
   "metadata": {
    "tags": []
   },
   "source": [
    "BldgType: Type of dwelling\n",
    "\t\t\n",
    "       1Fam\tSingle-family Detached\t\n",
    "       2FmCon\tTwo-family Conversion; originally built as one-family dwelling\n",
    "       Duplx\tDuplex\n",
    "       TwnhsE\tTownhouse End Unit\n",
    "       TwnhsI\tTownhouse Inside Unit"
   ]
  },
  {
   "cell_type": "code",
   "execution_count": 18,
   "id": "444940f4-0b53-4629-8275-5bff27a33208",
   "metadata": {},
   "outputs": [],
   "source": [
    "cleaned_data['BldgGroup'] = cleaned_data['BldgType'].replace({\n",
    "    '1Fam': 'Vivienda Individual',\n",
    "    'TwnhsE': 'Vivienda Individual',\n",
    "    '2fmCon': 'Doble Vivienda',\n",
    "    'Duplex': 'Doble Vivienda',\n",
    "    'Twnhs': 'Múltiples Unidades'\n",
    "})\n",
    "\n",
    "bldg_group_encoded = pd.get_dummies(cleaned_data['BldgGroup'], prefix='BldgGroup')\n",
    "cleaned_data = pd.concat([cleaned_data, bldg_group_encoded], axis=1)\n",
    "cleaned_data = cleaned_data.drop('BldgGroup', axis=1)\n",
    "cleaned_data = cleaned_data.drop(columns=['BldgType'])\n"
   ]
  },
  {
   "cell_type": "code",
   "execution_count": null,
   "id": "92400209-238b-468c-9f42-e53f368b078c",
   "metadata": {},
   "outputs": [],
   "source": []
  },
  {
   "cell_type": "markdown",
   "id": "34f84a3d-8ae8-46f9-9c80-ca69e4d8c8e2",
   "metadata": {},
   "source": [
    "## HouseStyle"
   ]
  },
  {
   "cell_type": "markdown",
   "id": "1b13b204-97e9-4173-a077-f81a91783e70",
   "metadata": {},
   "source": [
    "HouseStyle: Style of dwelling\n",
    "\t\n",
    "       1Story\tOne story\n",
    "       1.5Fin\tOne and one-half story: 2nd level finished\n",
    "       1.5Unf\tOne and one-half story: 2nd level unfinished\n",
    "       2Story\tTwo story\n",
    "       2.5Fin\tTwo and one-half story: 2nd level finished\n",
    "       2.5Unf\tTwo and one-half story: 2nd level unfinished\n",
    "       SFoyer\tSplit Foyer\n",
    "       SLvl\tSplit Level"
   ]
  },
  {
   "cell_type": "code",
   "execution_count": 19,
   "id": "13d2dc05-b51f-49b8-bf0e-24b6fc7428be",
   "metadata": {
    "tags": []
   },
   "outputs": [],
   "source": [
    "cleaned_data = cleaned_data.drop('HouseStyle', axis=1)\n"
   ]
  },
  {
   "cell_type": "code",
   "execution_count": null,
   "id": "fb4cea07-0137-4f9b-8bdd-a233f6dc61ab",
   "metadata": {},
   "outputs": [],
   "source": []
  },
  {
   "cell_type": "markdown",
   "id": "3968c1ac-9d43-4330-86c8-3618808ff1c0",
   "metadata": {},
   "source": [
    "## OverallQual"
   ]
  },
  {
   "cell_type": "markdown",
   "id": "81ce3558-1be1-4999-a455-c7a7f2ed25a0",
   "metadata": {
    "tags": []
   },
   "source": [
    "OverallQual: Rates the overall material and finish of the house\n",
    "\n",
    "       10\tVery Excellent\n",
    "       9\tExcellent\n",
    "       8\tVery Good\n",
    "       7\tGood\n",
    "       6\tAbove Average\n",
    "       5\tAverage\n",
    "       4\tBelow Average\n",
    "       3\tFair\n",
    "       2\tPoor\n",
    "       1\tVery Poor"
   ]
  },
  {
   "cell_type": "code",
   "execution_count": null,
   "id": "094a0741-be4e-4405-a36b-204365728ea3",
   "metadata": {},
   "outputs": [],
   "source": []
  },
  {
   "cell_type": "markdown",
   "id": "d60c043f-20d7-4b4d-9142-ceab4b938814",
   "metadata": {},
   "source": [
    "## OverallCond"
   ]
  },
  {
   "cell_type": "markdown",
   "id": "755a6146-7086-4c08-a152-b66b07090f3e",
   "metadata": {},
   "source": [
    "OverallCond: Rates the overall condition of the house\n",
    "\n",
    "       10\tVery Excellent\n",
    "       9\tExcellent\n",
    "       8\tVery Good\n",
    "       7\tGood\n",
    "       6\tAbove Average\t\n",
    "       5\tAverage\n",
    "       4\tBelow Average\t\n",
    "       3\tFair\n",
    "       2\tPoor\n",
    "       1\tVery Poor"
   ]
  },
  {
   "cell_type": "markdown",
   "id": "27da104d-d661-4263-9709-f54db9a78dae",
   "metadata": {
    "tags": []
   },
   "source": [
    " ## YearBuilt"
   ]
  },
  {
   "cell_type": "markdown",
   "id": "97f101c1-6a8a-4433-bfa1-94c47e6a9762",
   "metadata": {},
   "source": [
    "YearBuilt: Original construction date"
   ]
  },
  {
   "cell_type": "code",
   "execution_count": 20,
   "id": "5c08645d-9441-41bd-9135-bd0c29222adf",
   "metadata": {
    "tags": []
   },
   "outputs": [],
   "source": [
    "current_year = 2024\n",
    "cleaned_data['Age'] = current_year - cleaned_data['YearBuilt']\n",
    "\n",
    "cleaned_data = cleaned_data.drop('YearBuilt', axis=1)"
   ]
  },
  {
   "cell_type": "code",
   "execution_count": null,
   "id": "86cc3962-8557-450c-bef3-583d46edcead",
   "metadata": {},
   "outputs": [],
   "source": []
  },
  {
   "cell_type": "markdown",
   "id": "db8eee59-8a12-4eb0-8c6e-2e65b30c4353",
   "metadata": {},
   "source": [
    "## YearRemodAdd"
   ]
  },
  {
   "cell_type": "markdown",
   "id": "a322f39f-a19f-462a-aa2b-c3aa48419954",
   "metadata": {},
   "source": [
    "YearRemodAdd: Remodel date (same as construction date if no remodeling or additions)\n"
   ]
  },
  {
   "cell_type": "code",
   "execution_count": 21,
   "id": "bb24bb50-4c3e-4470-8f74-6ebab7ed43d1",
   "metadata": {
    "tags": []
   },
   "outputs": [],
   "source": [
    "current_year = 2024\n",
    "cleaned_data['Ageremod'] = current_year - cleaned_data['YearRemodAdd']\n",
    "\n",
    "cleaned_data = cleaned_data.drop('YearRemodAdd', axis=1)"
   ]
  },
  {
   "cell_type": "code",
   "execution_count": null,
   "id": "7aa07c92-de7a-4971-b233-c9cb39923e0b",
   "metadata": {},
   "outputs": [],
   "source": []
  },
  {
   "cell_type": "markdown",
   "id": "f18f9c0f-4161-4be9-a5b2-1e37c5317876",
   "metadata": {},
   "source": [
    "## RoofStyle"
   ]
  },
  {
   "cell_type": "markdown",
   "id": "b745cfc2-6cb6-47d2-b667-a916e30f0f5c",
   "metadata": {
    "tags": []
   },
   "source": [
    "RoofStyle: Type of roof\n",
    "\n",
    "       Flat\tFlat\n",
    "       Gable\tGable\n",
    "       Gambrel\tGabrel (Barn)\n",
    "       Hip\tHip\n",
    "       Mansard\tMansard\n",
    "       Shed\tShed"
   ]
  },
  {
   "cell_type": "code",
   "execution_count": 22,
   "id": "242a6ac4-c783-4cad-a25d-fae661c01518",
   "metadata": {
    "tags": []
   },
   "outputs": [],
   "source": [
    "data['RoofStyle'] = data['RoofStyle'].replace({\n",
    "    'Flat': 'Flat_Shed',\n",
    "    'Shed': 'Flat_Shed',\n",
    "    'Gable': 'Gable_Hip_Gambrel',\n",
    "    'Hip': 'Gable_Hip_Gambrel',\n",
    "    'Gambrel': 'Gable_Hip_Gambrel',\n",
    "    'Mansard': 'Mansard'\n",
    "})\n",
    "\n",
    "roofstyle_encoded = pd.get_dummies(data['RoofStyle'], prefix='RoofStyle', drop_first=True)\n",
    "data = data.drop('RoofStyle', axis=1)\n",
    "data = pd.concat([data, roofstyle_encoded], axis=1)\n",
    "cleaned_data = cleaned_data.drop(columns=['RoofStyle'])\n",
    "\n",
    "\n",
    "\n",
    "\n",
    "\n"
   ]
  },
  {
   "cell_type": "code",
   "execution_count": null,
   "id": "3d934e87-8996-4645-adcc-5d17de35413e",
   "metadata": {},
   "outputs": [],
   "source": []
  },
  {
   "cell_type": "markdown",
   "id": "ae5f4266-f2f2-4480-9c6a-00d48f4317c9",
   "metadata": {
    "tags": []
   },
   "source": [
    "## RoofMatl"
   ]
  },
  {
   "cell_type": "markdown",
   "id": "5a8eede5-0941-41aa-ac69-33a25b7366e0",
   "metadata": {},
   "source": [
    "RoofMatl: Roof material\n",
    "\n",
    "       ClyTile\tClay or Tile\n",
    "       CompShg\tStandard (Composite) Shingle\n",
    "       Membran\tMembrane\n",
    "       Metal\tMetal\n",
    "       Roll\tRoll\n",
    "       Tar&Grv\tGravel & Tar\n",
    "       WdShake\tWood Shakes\n",
    "       WdShngl\tWood Shingles"
   ]
  },
  {
   "cell_type": "code",
   "execution_count": 23,
   "id": "daf35c78-49fd-4810-bcfc-bb651c632071",
   "metadata": {},
   "outputs": [],
   "source": [
    "RoofMatl_dict = {'CompShg': 'MildPrice',\n",
    " 'Membran': 'HighPrice',\n",
    " 'Metal': 'MildPrice',\n",
    " 'Roll': 'MildPrice',\n",
    " 'Tar&Grv': 'MildPrice',\n",
    " 'WdShake': 'HighPrice',\n",
    " 'WdShngl': 'HighPrice'}"
   ]
  },
  {
   "cell_type": "code",
   "execution_count": 24,
   "id": "4d24173b-c492-4b85-8d68-d8738005f26c",
   "metadata": {
    "tags": []
   },
   "outputs": [
    {
     "data": {
      "text/plain": [
       "RoofMatl\n",
       "HighPrice       5\n",
       "MildPrice    1454\n",
       "Name: RoofMatl, dtype: int64"
      ]
     },
     "execution_count": 24,
     "metadata": {},
     "output_type": "execute_result"
    }
   ],
   "source": [
    "cleaned_data['RoofMatl'] = cleaned_data['RoofMatl'].map(RoofMatl_dict)\n",
    "cleaned_data.groupby('RoofMatl')['RoofMatl'].count()"
   ]
  },
  {
   "cell_type": "code",
   "execution_count": 25,
   "id": "9913a875-fe7c-482f-97e5-01a0da7bfefd",
   "metadata": {},
   "outputs": [],
   "source": [
    "price_order = {'HighPrice': 2, 'MildPrice': 1, 'LowPrice': 0}\n",
    "cleaned_data['RoofMatl'] = cleaned_data['RoofMatl'].map(price_order)"
   ]
  },
  {
   "cell_type": "code",
   "execution_count": null,
   "id": "7c4b6bb5-4463-437c-9d61-c0800d0025b8",
   "metadata": {
    "tags": []
   },
   "outputs": [],
   "source": []
  },
  {
   "cell_type": "markdown",
   "id": "314e8353-7c49-472e-8149-ca87d891f1f6",
   "metadata": {
    "tags": []
   },
   "source": [
    "## Exterior1st y exterior2nd"
   ]
  },
  {
   "cell_type": "markdown",
   "id": "e66ad65d-0699-4709-9ed5-377a4077d927",
   "metadata": {},
   "source": [
    "Exterior1st: Exterior covering on house\n",
    "\n",
    "       AsbShng\tAsbestos Shingles\n",
    "       AsphShn\tAsphalt Shingles\n",
    "       BrkComm\tBrick Common\n",
    "       BrkFace\tBrick Face\n",
    "       CBlock\tCinder Block\n",
    "       CemntBd\tCement Board\n",
    "       HdBoard\tHard Board\n",
    "       ImStucc\tImitation Stucco\n",
    "       MetalSd\tMetal Siding\n",
    "       Other\tOther\n",
    "       Plywood\tPlywood\n",
    "       PreCast\tPreCast\t\n",
    "       Stone\tStone\n",
    "       Stucco\tStucco\n",
    "       VinylSd\tVinyl Siding\n",
    "       Wd Sdng\tWood Siding\n",
    "       WdShing\tWood Shingles\n",
    "\t\n",
    "Exterior2nd: Exterior covering on house (if more than one material)\n",
    "\n",
    "       AsbShng\tAsbestos Shingles\n",
    "       AsphShn\tAsphalt Shingles\n",
    "       BrkComm\tBrick Common\n",
    "       BrkFace\tBrick Face\n",
    "       CBlock\tCinder Block\n",
    "       CemntBd\tCement Board\n",
    "       HdBoard\tHard Board\n",
    "       ImStucc\tImitation Stucco\n",
    "       MetalSd\tMetal Siding\n",
    "       Other\tOther\n",
    "       Plywood\tPlywood\n",
    "       PreCast\tPreCast\n",
    "       Stone\tStone\n",
    "       Stucco\tStucco\n",
    "       VinylSd\tVinyl Siding\n",
    "       Wd Sdng\tWood Siding\n",
    "       WdShing\tWood Shingles"
   ]
  },
  {
   "cell_type": "code",
   "execution_count": 26,
   "id": "d0ff3a84-3c0e-4cb0-9d36-d512fccd78a4",
   "metadata": {
    "tags": []
   },
   "outputs": [],
   "source": [
    "Exterior1st_dict = {'AsbShng': 'LowPrice',\n",
    " 'AsphShn': 'LowPrice',\n",
    " 'BrkComm': 'LowPrice',\n",
    " 'BrkFace': 'MildPrice',\n",
    " 'CBlock': 'LowPrice',\n",
    " 'CemntBd': 'HighPrice',\n",
    " 'HdBoard': 'MildPrice',\n",
    " 'ImStucc': 'HighPrice',\n",
    " 'MetalSd': 'MildPrice',\n",
    " 'Plywood': 'MildPrice',\n",
    " 'Stone': 'HighPrice',\n",
    " 'Stucco': 'MildPrice',\n",
    " 'VinylSd': 'MildPrice',\n",
    " 'Wd Sdng': 'MildPrice',\n",
    " 'WdShing': 'MildPrice'}\n",
    "\n",
    "Exterior2nd_dict = {'AsbShng': 'LowPrice',\n",
    " 'AsphShn': 'MildPrice',\n",
    " 'Brk Cmn': 'LowPrice',\n",
    " 'BrkFace': 'MildPrice',\n",
    " 'CBlock': 'LowPrice',\n",
    " 'CmentBd': 'HighPrice',\n",
    " 'HdBoard': 'MildPrice',\n",
    " 'ImStucc': 'HighPrice',\n",
    " 'MetalSd': 'MildPrice',\n",
    " 'Other': 'HighPrice',\n",
    " 'Plywood': 'MildPrice',\n",
    " 'Stone': 'MildPrice',\n",
    " 'Stucco': 'MildPrice',\n",
    " 'VinylSd': 'HighPrice',\n",
    " 'Wd Sdng': 'MildPrice',\n",
    " 'Wd Shng': 'MildPrice'}\n",
    "\n",
    "price_order = {'HighPrice': 2, 'MildPrice': 1, 'LowPrice': 0}\n",
    "\n",
    "cleaned_data['Exterior1st'] = cleaned_data['Exterior1st'].map(Exterior1st_dict).map(price_order)\n",
    "cleaned_data['Exterior2nd'] = cleaned_data['Exterior2nd'].map(Exterior2nd_dict).map(price_order)\n",
    "\n",
    "cleaned_data['ExteriorCombined'] = cleaned_data[['Exterior1st', 'Exterior2nd']].mean(axis=1)\n",
    "cleaned_data = cleaned_data.drop(columns=['Exterior1st', 'Exterior2nd'])\n"
   ]
  },
  {
   "cell_type": "code",
   "execution_count": null,
   "id": "dce326bf-3a7a-4827-9936-be2c7c15f050",
   "metadata": {},
   "outputs": [],
   "source": []
  },
  {
   "cell_type": "markdown",
   "id": "b3174c92-b39d-4a59-9eb0-edc466a1656d",
   "metadata": {},
   "source": [
    "## MasVnrType"
   ]
  },
  {
   "cell_type": "markdown",
   "id": "bddf5142-139f-4da4-80e0-594d187befca",
   "metadata": {},
   "source": [
    "MasVnrType: Masonry veneer type\n",
    "\n",
    "       BrkCmn\tBrick Common\n",
    "       BrkFace\tBrick Face\n",
    "       CBlock\tCinder Block\n",
    "       None \tNone\n",
    "       Stone\tStone"
   ]
  },
  {
   "cell_type": "code",
   "execution_count": 27,
   "id": "8f2acd04-b7a0-41b5-8847-6c34758084c6",
   "metadata": {
    "tags": []
   },
   "outputs": [],
   "source": [
    "cleaned_data['MasVnrType'] = cleaned_data['MasVnrType'].fillna('None')\n",
    "cleaned_data['MasVnrType'] = cleaned_data['MasVnrType'].replace({\n",
    "    'None': 'BrkCmn',\n",
    "})\n",
    "\n",
    "mas_vnr_dummies = pd.get_dummies(cleaned_data['MasVnrType'], prefix='MasVnrType', drop_first=True)\n",
    "cleaned_data = cleaned_data.drop('MasVnrType', axis=1)\n",
    "cleaned_data = pd.concat([cleaned_data, mas_vnr_dummies], axis=1)\n"
   ]
  },
  {
   "cell_type": "code",
   "execution_count": null,
   "id": "d836fa1e-fd99-4381-a4ce-3d697eb18722",
   "metadata": {},
   "outputs": [],
   "source": []
  },
  {
   "cell_type": "markdown",
   "id": "9cf387c8-4fb1-4edd-b550-063e44a8c640",
   "metadata": {},
   "source": [
    "## MasVnrArea"
   ]
  },
  {
   "cell_type": "markdown",
   "id": "5f9123c2-8791-4408-9980-3b9d3906c502",
   "metadata": {},
   "source": [
    "MasVnrArea: Masonry veneer area in square feet\n"
   ]
  },
  {
   "cell_type": "code",
   "execution_count": 28,
   "id": "e294203e-9418-4eed-a0d5-43b469875d9e",
   "metadata": {
    "tags": []
   },
   "outputs": [],
   "source": [
    "cleaned_data['MasVnrArea'].fillna(0, inplace=True)\n"
   ]
  },
  {
   "cell_type": "code",
   "execution_count": null,
   "id": "5edea4cb-2d0f-4a24-8c3c-47c3b7e0187d",
   "metadata": {},
   "outputs": [],
   "source": []
  },
  {
   "cell_type": "markdown",
   "id": "ab086a94-8c43-498c-87d6-9b43058dce4a",
   "metadata": {},
   "source": [
    "## ExterQual"
   ]
  },
  {
   "cell_type": "markdown",
   "id": "3f511e3e-fcf5-4446-a45b-a1996ea5dc40",
   "metadata": {},
   "source": [
    "ExterQual: Evaluates the quality of the material on the exterior \n",
    "\t\t\n",
    "       Ex\tExcellent\n",
    "       Gd\tGood\n",
    "       TA\tAverage/Typical\n",
    "       Fa\tFair\n",
    "       Po\tPoor"
   ]
  },
  {
   "cell_type": "code",
   "execution_count": 29,
   "id": "0c730e75-2982-4a9a-a0e6-21cb60080cc2",
   "metadata": {
    "tags": []
   },
   "outputs": [],
   "source": [
    "ExterQual_dict = {\n",
    "    'Ex': 4,\n",
    "    'Gd': 3,\n",
    "    'TA': 2,\n",
    "    'Fa': 1,\n",
    "    'Po': 0\n",
    "}\n",
    "\n",
    "cleaned_data['ExterQual'] = cleaned_data['ExterQual'].map(ExterQual_dict)\n"
   ]
  },
  {
   "cell_type": "code",
   "execution_count": null,
   "id": "c6dda495-86d0-4a16-8dd0-110b5f49b038",
   "metadata": {
    "tags": []
   },
   "outputs": [],
   "source": []
  },
  {
   "cell_type": "markdown",
   "id": "13ed881d-d5a9-4860-bc43-5df066d7ddfe",
   "metadata": {
    "tags": []
   },
   "source": [
    "## ExterCond"
   ]
  },
  {
   "cell_type": "markdown",
   "id": "7a340bed-1b61-4737-9870-18fb69833248",
   "metadata": {},
   "source": [
    "ExterCond: Evaluates the present condition of the material on the exterior\n",
    "\t\t\n",
    "       Ex\tExcellent\n",
    "       Gd\tGood\n",
    "       TA\tAverage/Typical\n",
    "       Fa\tFair\n",
    "       Po\tPoor\n",
    "\t\t"
   ]
  },
  {
   "cell_type": "code",
   "execution_count": 30,
   "id": "a35f27fe-b8b1-4d35-83e3-45a955bceba1",
   "metadata": {
    "tags": []
   },
   "outputs": [],
   "source": [
    "ExterCond_dict = {\n",
    "    'Ex': 4,\n",
    "    'Gd': 3,\n",
    "    'TA': 2,\n",
    "    'Fa': 1,\n",
    "    'Po': 0\n",
    "}\n",
    "\n",
    "cleaned_data['ExterCond'] = cleaned_data['ExterCond'].map(ExterCond_dict)"
   ]
  },
  {
   "cell_type": "code",
   "execution_count": null,
   "id": "a2b38940-17df-4e6d-96cb-cbc3d2cddb05",
   "metadata": {},
   "outputs": [],
   "source": []
  },
  {
   "cell_type": "markdown",
   "id": "7f92a906-e4cc-429a-b7b5-17e98116563f",
   "metadata": {},
   "source": [
    "## Foundation"
   ]
  },
  {
   "cell_type": "markdown",
   "id": "f563e108-ca71-46c6-935a-08c46175a9c5",
   "metadata": {},
   "source": [
    "Foundation: Type of foundation\n",
    "\t\t\n",
    "       BrkTil\tBrick & Tile\n",
    "       CBlock\tCinder Block\n",
    "       PConc\tPoured Contrete\t\n",
    "       Slab\tSlab\n",
    "       Stone\tStone\n",
    "       Wood\tWood"
   ]
  },
  {
   "cell_type": "code",
   "execution_count": 31,
   "id": "3024c94a-6ed5-43b6-bdec-73a901378fa6",
   "metadata": {
    "tags": []
   },
   "outputs": [],
   "source": [
    "foundation_encoded = pd.get_dummies(cleaned_data['Foundation'], prefix='Foundation', drop_first=True)\n",
    "cleaned_data = cleaned_data.drop('Foundation', axis=1)\n",
    "cleaned_data = pd.concat([cleaned_data, foundation_encoded], axis=1)\n"
   ]
  },
  {
   "cell_type": "code",
   "execution_count": null,
   "id": "0aaddb08-4e36-42d3-894c-d2ebaf7ed17f",
   "metadata": {
    "tags": []
   },
   "outputs": [],
   "source": []
  },
  {
   "cell_type": "markdown",
   "id": "5da929af-b8db-4fc8-a40d-a25457a67b54",
   "metadata": {},
   "source": [
    "## BsmtQual"
   ]
  },
  {
   "cell_type": "markdown",
   "id": "471b0c7f-2e18-48e9-b5da-2906b2d294ed",
   "metadata": {
    "tags": []
   },
   "source": [
    "BsmtQual: Evaluates the height of the basement\n",
    "\n",
    "       Ex\tExcellent (100+ inches)\t\n",
    "       Gd\tGood (90-99 inches)\n",
    "       TA\tTypical (80-89 inches)\n",
    "       Fa\tFair (70-79 inches)\n",
    "       Po\tPoor (<70 inches\n",
    "       NA\tNo Basement"
   ]
  },
  {
   "cell_type": "code",
   "execution_count": 32,
   "id": "1414fa86-8365-4a6d-aa48-5d42b7779fdb",
   "metadata": {
    "tags": []
   },
   "outputs": [],
   "source": [
    "cleaned_data['BsmtQual'].fillna('NA', inplace=True)\n",
    "bsmt_qual_mapping = {\n",
    "    'Ex': 5,\n",
    "    'Gd': 4,\n",
    "    'TA': 3,\n",
    "    'Fa': 2,\n",
    "    'Po': 1,\n",
    "    'NA': 0\n",
    "}\n",
    "\n",
    "cleaned_data['BsmtQual'] = cleaned_data['BsmtQual'].map(bsmt_qual_mapping)\n"
   ]
  },
  {
   "cell_type": "code",
   "execution_count": 33,
   "id": "223d401c-0714-4d71-9cb5-4202f8bf51a6",
   "metadata": {
    "tags": []
   },
   "outputs": [],
   "source": [
    "cleaned_data['HasBasement'] = cleaned_data['BsmtQual'].apply(lambda x: 1 if x != 'NA' else 0)\n"
   ]
  },
  {
   "cell_type": "code",
   "execution_count": null,
   "id": "69cebac2-bb3f-4c60-bcb7-6fa19160994c",
   "metadata": {},
   "outputs": [],
   "source": []
  },
  {
   "cell_type": "markdown",
   "id": "fb421e4e-e08a-4d51-8b95-5aff99e10fb5",
   "metadata": {},
   "source": [
    "## BsmtCond"
   ]
  },
  {
   "cell_type": "markdown",
   "id": "67699c94-0d19-483e-8f54-367c832c2f0d",
   "metadata": {},
   "source": [
    "BsmtCond: Evaluates the general condition of the basement\n",
    "\n",
    "       Ex\tExcellent\n",
    "       Gd\tGood\n",
    "       TA\tTypical - slight dampness allowed\n",
    "       Fa\tFair - dampness or some cracking or settling\n",
    "       Po\tPoor - Severe cracking, settling, or wetness\n",
    "       NA\tNo Basement"
   ]
  },
  {
   "cell_type": "code",
   "execution_count": 34,
   "id": "9fa86522-a3c3-4d72-9d8c-4d03654e9cc7",
   "metadata": {},
   "outputs": [],
   "source": [
    "cleaned_data['BsmtCond'].fillna('NA', inplace=True)\n",
    "bsmt_cond_mapping = {\n",
    "    'Ex': 5,\n",
    "    'Gd': 4,\n",
    "    'TA': 3,\n",
    "    'Fa': 2,\n",
    "    'Po': 1,\n",
    "    'NA': 0\n",
    "}\n",
    "\n",
    "cleaned_data['BsmtCond'] = cleaned_data['BsmtCond'].map(bsmt_cond_mapping)\n"
   ]
  },
  {
   "cell_type": "code",
   "execution_count": null,
   "id": "6ca795d2-f043-48d0-ad8e-02f07b1efa89",
   "metadata": {},
   "outputs": [],
   "source": []
  },
  {
   "cell_type": "markdown",
   "id": "2992bd8c-c5c5-41fa-a717-9143d5f680e2",
   "metadata": {},
   "source": [
    "## BsmtExposure"
   ]
  },
  {
   "cell_type": "markdown",
   "id": "73ef5923-fbee-40ee-8053-a5a29c5bce26",
   "metadata": {},
   "source": [
    "BsmtExposure: Refers to walkout or garden level walls\n",
    "\n",
    "       Gd\tGood Exposure\n",
    "       Av\tAverage Exposure (split levels or foyers typically score average or above)\t\n",
    "       Mn\tMimimum Exposure\n",
    "       No\tNo Exposure\n",
    "       NA\tNo Basement"
   ]
  },
  {
   "cell_type": "code",
   "execution_count": 35,
   "id": "8b98dde7-a078-49e6-8018-8f6265df2c83",
   "metadata": {},
   "outputs": [],
   "source": [
    "cleaned_data['BsmtExposure'].fillna('NA', inplace=True)\n",
    "cleaned_data['BsmtExposure'] = cleaned_data['BsmtExposure'].replace({\n",
    "    'Gd': 4,\n",
    "    'Av': 3,\n",
    "    'Mn': 2,\n",
    "    'No': 1,\n",
    "    'NA': 0\n",
    "})\n",
    "\n"
   ]
  },
  {
   "cell_type": "markdown",
   "id": "d7e2042f-753e-44bb-a9af-c30bd4da19c5",
   "metadata": {},
   "source": [
    "BsmtFinSF2: Type 2 finished square feet\n"
   ]
  },
  {
   "cell_type": "markdown",
   "id": "fdeb7a50-0c84-48fb-8154-3fa72a7e8760",
   "metadata": {},
   "source": [
    "## BsmtFinType1, BsmtFinSF1, BsmtFinType2, BsmtFinSF2, BsmtUnfSF y TotalBsmtSF"
   ]
  },
  {
   "cell_type": "markdown",
   "id": "f23ea53c-56f6-46cc-9db5-083d21204409",
   "metadata": {},
   "source": [
    "BsmtFinType1: Rating of basement finished area\n",
    "\n",
    "       GLQ\tGood Living Quarters\n",
    "       ALQ\tAverage Living Quarters\n",
    "       BLQ\tBelow Average Living Quarters\t\n",
    "       Rec\tAverage Rec Room\n",
    "       LwQ\tLow Quality\n",
    "       Unf\tUnfinshed\n",
    "       NA\tNo Basement\n",
    "\t\t\n",
    "BsmtFinSF1: Type 1 finished square feet\n",
    "\n",
    "BsmtFinType2: Rating of basement finished area (if multiple types)\n",
    "\n",
    "       GLQ\tGood Living Quarters\n",
    "       ALQ\tAverage Living Quarters\n",
    "       BLQ\tBelow Average Living Quarters\t\n",
    "       Rec\tAverage Rec Room\n",
    "       LwQ\tLow Quality\n",
    "       Unf\tUnfinshed\n",
    "       NA\tNo Basement\n",
    "\n",
    "BsmtFinSF2: Type 2 finished square feet\n",
    "\n",
    "BsmtUnfSF: Unfinished square feet of basement area\n",
    "\n",
    "TotalBsmtSF: Total square feet of basement area"
   ]
  },
  {
   "cell_type": "code",
   "execution_count": 36,
   "id": "23b264b5-3539-461b-a427-53e60ce7d272",
   "metadata": {},
   "outputs": [],
   "source": [
    "cleaned_data['BsmtFinType1'].fillna('NA', inplace=True)\n",
    "cleaned_data['BsmtFinType2'].fillna('NA', inplace=True)\n",
    "\n",
    "cleaned_data['TotalBsmtSF_Check'] = (\n",
    "    cleaned_data['BsmtFinSF1'] +\n",
    "    cleaned_data['BsmtFinSF2'] +\n",
    "    cleaned_data['BsmtUnfSF']\n",
    ")\n",
    "\n",
    "check_result = (cleaned_data['TotalBsmtSF'] == cleaned_data['TotalBsmtSF_Check'])\n",
    "check_result.value_counts()\n",
    "\n",
    "cleaned_data['BsmtFinType1'] = cleaned_data['BsmtFinType1'].replace({\n",
    "    'GLQ': 6,\n",
    "    'ALQ': 5,\n",
    "    'BLQ': 4,\n",
    "    'Rec': 3,\n",
    "    'LwQ': 2,\n",
    "    'Unf': 1,\n",
    "    'NA': 0\n",
    "})\n",
    "\n",
    "cleaned_data['BsmtFinType2'] = cleaned_data['BsmtFinType2'].replace({\n",
    "    'GLQ': 6,\n",
    "    'ALQ': 5,\n",
    "    'BLQ': 4,\n",
    "    'Rec': 3,\n",
    "    'LwQ': 2,\n",
    "    'Unf': 1,\n",
    "    'NA': 0\n",
    "})\n",
    "\n",
    "max_area = cleaned_data['TotalBsmtSF'].max()\n",
    "cleaned_data['BsmtFinSF1'] = cleaned_data['BsmtFinSF1'] / max_area\n",
    "cleaned_data['BsmtFinSF2'] = cleaned_data['BsmtFinSF2'] / max_area\n",
    "cleaned_data['BsmtUnfSF'] = cleaned_data['BsmtUnfSF'] / max_area\n",
    "\n",
    "cleaned_data['BsmtQualityScore'] = (\n",
    "    (cleaned_data['BsmtFinType1'] * cleaned_data['BsmtFinSF1']) + \n",
    "    (cleaned_data['BsmtFinType2'] * cleaned_data['BsmtFinSF2']) + \n",
    "    cleaned_data['BsmtUnfSF']\n",
    ")\n",
    "\n",
    "cleaned_data = cleaned_data.drop(columns=['BsmtFinType1', 'BsmtFinSF1', 'BsmtFinType2', 'BsmtFinSF2', 'BsmtUnfSF', 'TotalBsmtSF', 'TotalBsmtSF_Check'])\n",
    "\n"
   ]
  },
  {
   "cell_type": "code",
   "execution_count": null,
   "id": "354f698c-721c-49c3-b919-2120d14e72dc",
   "metadata": {
    "tags": []
   },
   "outputs": [],
   "source": []
  },
  {
   "cell_type": "markdown",
   "id": "777c2122-47d8-4658-b2e6-db3829268955",
   "metadata": {},
   "source": [
    "## Heating"
   ]
  },
  {
   "cell_type": "markdown",
   "id": "c3d332f3-b24f-44ee-93d5-a5603997e00a",
   "metadata": {},
   "source": [
    "Heating: Type of heating\n",
    "\t\t\n",
    "       Floor\tFloor Furnace\n",
    "       GasA\tGas forced warm air furnace\n",
    "       GasW\tGas hot water or steam heat\n",
    "       Grav\tGravity furnace\t\n",
    "       OthW\tHot water or steam heat other than gas\n",
    "       Wall\tWall furnace"
   ]
  },
  {
   "cell_type": "code",
   "execution_count": 37,
   "id": "ed7ce8a9-623e-40a9-a349-68dc0492459a",
   "metadata": {
    "tags": []
   },
   "outputs": [],
   "source": [
    "cleaned_data['Heating_GasA'] = cleaned_data['Heating'].apply(lambda x: 1 if x == 'GasA' else 0)\n",
    "cleaned_data = cleaned_data.drop(columns=['Heating'])\n"
   ]
  },
  {
   "cell_type": "code",
   "execution_count": null,
   "id": "63722d5d-8990-44e6-baf8-03caad1fa934",
   "metadata": {},
   "outputs": [],
   "source": []
  },
  {
   "cell_type": "markdown",
   "id": "9443bf77-6f96-4413-a86b-94a656d9ae91",
   "metadata": {},
   "source": [
    "## HeatingQC"
   ]
  },
  {
   "cell_type": "markdown",
   "id": "3fda4d76-6610-413f-b6fd-97bfdda306e2",
   "metadata": {},
   "source": [
    "HeatingQC: Heating quality and condition\n",
    "\n",
    "       Ex\tExcellent\n",
    "       Gd\tGood\n",
    "       TA\tAverage/Typical\n",
    "       Fa\tFair\n",
    "       Po\tPoor"
   ]
  },
  {
   "cell_type": "code",
   "execution_count": 38,
   "id": "5fc632e3-7be7-42ac-af19-5db97a9ff537",
   "metadata": {
    "tags": []
   },
   "outputs": [],
   "source": [
    "cleaned_data['HeatingQC'] = cleaned_data['HeatingQC'].replace({\n",
    "    'Ex': 5,\n",
    "    'Gd': 4,\n",
    "    'TA': 3,\n",
    "    'Fa': 2,\n",
    "    'Po': 1\n",
    "})"
   ]
  },
  {
   "cell_type": "code",
   "execution_count": null,
   "id": "dc1d0496-cf04-4236-a926-563d344c1690",
   "metadata": {},
   "outputs": [],
   "source": []
  },
  {
   "cell_type": "markdown",
   "id": "e90beece-790f-4f04-8423-f014e5856112",
   "metadata": {},
   "source": [
    "## CentralAir"
   ]
  },
  {
   "cell_type": "markdown",
   "id": "0517edd4-2011-4983-b9bf-32866c47061e",
   "metadata": {
    "tags": []
   },
   "source": [
    "CentralAir: Central air conditioning\n",
    "\n",
    "       N\tNo\n",
    "       Y\tYes\n",
    "\t\t"
   ]
  },
  {
   "cell_type": "code",
   "execution_count": 39,
   "id": "e0133f4a-a142-458a-b2f2-fb35c88ccad6",
   "metadata": {
    "tags": []
   },
   "outputs": [],
   "source": [
    "cleaned_data['CentralAir'] = cleaned_data['CentralAir'].replace({\n",
    "    'Y': 1,\n",
    "    'N': 0\n",
    "})\n"
   ]
  },
  {
   "cell_type": "code",
   "execution_count": null,
   "id": "cbf02622-3161-488e-bdab-c036a5440373",
   "metadata": {},
   "outputs": [],
   "source": []
  },
  {
   "cell_type": "markdown",
   "id": "1bc61a35-e5fc-41f7-a9da-c071e31fca09",
   "metadata": {},
   "source": [
    "## Electrical"
   ]
  },
  {
   "cell_type": "markdown",
   "id": "099dcd51-3d9b-431d-94c0-c8d786b2633c",
   "metadata": {},
   "source": [
    "Electrical: Electrical system\n",
    "\n",
    "       SBrkr\tStandard Circuit Breakers & Romex\n",
    "       FuseA\tFuse Box over 60 AMP and all Romex wiring (Average)\t\n",
    "       FuseF\t60 AMP Fuse Box and mostly Romex wiring (Fair)\n",
    "       FuseP\t60 AMP Fuse Box and mostly knob & tube wiring (poor)\n",
    "       Mix\tMixed"
   ]
  },
  {
   "cell_type": "code",
   "execution_count": 40,
   "id": "2d062d3e-c1a0-44ef-9189-4fa4da0fe5ba",
   "metadata": {
    "tags": []
   },
   "outputs": [],
   "source": [
    "cleaned_data['Electrical_SBrkr'] = cleaned_data['Electrical'].apply(lambda x: 1 if x == 'SBrkr' else 0)\n",
    "cleaned_data = cleaned_data.drop(columns=['Electrical'])\n"
   ]
  },
  {
   "cell_type": "code",
   "execution_count": null,
   "id": "8beeea7a-b657-4b05-8412-795c30f4bf6d",
   "metadata": {
    "tags": []
   },
   "outputs": [],
   "source": []
  },
  {
   "cell_type": "markdown",
   "id": "341a6ff3-4396-4518-b5cb-b396d3715585",
   "metadata": {},
   "source": [
    "## 1stFlrSF"
   ]
  },
  {
   "cell_type": "markdown",
   "id": "bdcea84e-4bfc-47a3-8a7e-f92db6c782bb",
   "metadata": {},
   "source": [
    "1stFlrSF: First Floor square feet\n"
   ]
  },
  {
   "cell_type": "code",
   "execution_count": 41,
   "id": "b6b8ad87-e80b-4adc-ba6d-5292976fbbe7",
   "metadata": {
    "tags": []
   },
   "outputs": [
    {
     "data": {
      "text/plain": [
       "count    1459.000000\n",
       "mean     1156.534613\n",
       "std       398.165820\n",
       "min       407.000000\n",
       "25%       873.500000\n",
       "50%      1079.000000\n",
       "75%      1382.500000\n",
       "max      5095.000000\n",
       "Name: 1stFlrSF, dtype: float64"
      ]
     },
     "execution_count": 41,
     "metadata": {},
     "output_type": "execute_result"
    }
   ],
   "source": [
    "data['1stFlrSF'].describe()"
   ]
  },
  {
   "cell_type": "code",
   "execution_count": null,
   "id": "2b52c90b-f621-450b-b7f7-e8753de40d98",
   "metadata": {},
   "outputs": [],
   "source": []
  },
  {
   "cell_type": "markdown",
   "id": "5e28f75a-d12d-4712-932c-39a3954170f2",
   "metadata": {},
   "source": [
    "## 2ndFlrSF"
   ]
  },
  {
   "cell_type": "markdown",
   "id": "893cbf22-e5a3-44a3-bf29-c7531667bb70",
   "metadata": {},
   "source": [
    "2ndFlrSF: Second floor square feet\n"
   ]
  },
  {
   "cell_type": "code",
   "execution_count": 42,
   "id": "3bfc3309-7401-4e42-9b26-67366632eb23",
   "metadata": {
    "tags": []
   },
   "outputs": [
    {
     "data": {
      "text/plain": [
       "count    1459.000000\n",
       "mean      325.967786\n",
       "std       420.610226\n",
       "min         0.000000\n",
       "25%         0.000000\n",
       "50%         0.000000\n",
       "75%       676.000000\n",
       "max      1862.000000\n",
       "Name: 2ndFlrSF, dtype: float64"
      ]
     },
     "execution_count": 42,
     "metadata": {},
     "output_type": "execute_result"
    }
   ],
   "source": [
    "data['2ndFlrSF'].describe()"
   ]
  },
  {
   "cell_type": "code",
   "execution_count": null,
   "id": "dc676891-3294-4644-84fe-1ec4d589d8b2",
   "metadata": {},
   "outputs": [],
   "source": []
  },
  {
   "cell_type": "markdown",
   "id": "1a9ed324-88d0-46a6-b18b-80cdfdbbb69a",
   "metadata": {
    "tags": []
   },
   "source": [
    "## LowQualFinSF"
   ]
  },
  {
   "cell_type": "markdown",
   "id": "3f0b4fd6-fba8-4659-81bd-6600c488471c",
   "metadata": {},
   "source": [
    "Low quality finished square feet (all floors)\n"
   ]
  },
  {
   "cell_type": "code",
   "execution_count": 43,
   "id": "6c7438aa-188e-4ff5-95ec-6cbc32a182d0",
   "metadata": {
    "tags": []
   },
   "outputs": [],
   "source": [
    "cleaned_data.drop(columns=['LowQualFinSF'], inplace=True)\n"
   ]
  },
  {
   "cell_type": "code",
   "execution_count": null,
   "id": "dd78d2c5-9505-4ead-abc1-7e885744b582",
   "metadata": {},
   "outputs": [],
   "source": []
  },
  {
   "cell_type": "markdown",
   "id": "4c8f970a-6503-4688-803f-c57e5150e782",
   "metadata": {},
   "source": [
    "## GrLivArea"
   ]
  },
  {
   "cell_type": "markdown",
   "id": "ef20913e-5884-4843-814c-cac58bdbae44",
   "metadata": {},
   "source": [
    "GrLivArea: Above grade (ground) living area square feet"
   ]
  },
  {
   "cell_type": "code",
   "execution_count": null,
   "id": "13f616a8-a8e5-4f41-b7de-bede2bdda32d",
   "metadata": {},
   "outputs": [],
   "source": []
  },
  {
   "cell_type": "markdown",
   "id": "377a6521-0850-459c-862a-90ea8dc1fff9",
   "metadata": {},
   "source": [
    "## BsmtFullBath y BsmtHalfBath"
   ]
  },
  {
   "cell_type": "markdown",
   "id": "d5bb38cc-2530-40c2-a61e-afb3f0ed6ddd",
   "metadata": {
    "tags": []
   },
   "source": [
    "BsmtFullBath: Basement full bathrooms\n",
    "\n",
    "BsmtHalfBath: Basement half bathrooms"
   ]
  },
  {
   "cell_type": "code",
   "execution_count": 44,
   "id": "21e66f4e-eab5-45cd-8410-205e3c668990",
   "metadata": {
    "tags": []
   },
   "outputs": [],
   "source": [
    "cleaned_data['TotalBasementBaths'] = (\n",
    "    cleaned_data['BsmtFullBath'] + (cleaned_data['BsmtHalfBath'] * 0.5)\n",
    ")\n",
    "cleaned_data = cleaned_data.drop(columns=['BsmtFullBath', 'BsmtHalfBath'])\n"
   ]
  },
  {
   "cell_type": "code",
   "execution_count": null,
   "id": "ec4404b6-93b0-493e-98ec-d6efbf1d37f7",
   "metadata": {},
   "outputs": [],
   "source": []
  },
  {
   "cell_type": "markdown",
   "id": "2e7322fb-b87d-4da9-a161-ab8633386c7b",
   "metadata": {},
   "source": [
    "## FullBath y HalfBath"
   ]
  },
  {
   "cell_type": "markdown",
   "id": "6f5a1371-0e84-476c-8f54-c19e7465ed15",
   "metadata": {},
   "source": [
    "FullBath: Full bathrooms above grade\n",
    "\n",
    "HalfBath: Half baths above grade"
   ]
  },
  {
   "cell_type": "code",
   "execution_count": 45,
   "id": "e13af195-d8ec-4a03-9cff-a8a1ac132237",
   "metadata": {
    "tags": []
   },
   "outputs": [],
   "source": [
    "cleaned_data['TotalBaths'] = (\n",
    "    cleaned_data['FullBath'] + (cleaned_data['HalfBath'] * 0.5)\n",
    ")\n",
    "cleaned_data = cleaned_data.drop(columns=['FullBath', 'HalfBath'])"
   ]
  },
  {
   "cell_type": "code",
   "execution_count": null,
   "id": "cc874795-1536-4e22-a071-2ca82b7f548d",
   "metadata": {
    "tags": []
   },
   "outputs": [],
   "source": []
  },
  {
   "cell_type": "markdown",
   "id": "d42fc92c-0f39-4d5f-855c-1831e136f4e7",
   "metadata": {},
   "source": [
    "## Bedroom"
   ]
  },
  {
   "cell_type": "markdown",
   "id": "476c26ac-2e76-45e7-8a11-ee2818de35b4",
   "metadata": {
    "tags": []
   },
   "source": [
    "Bedroom: Bedrooms above grade (does NOT include basement bedrooms)\n"
   ]
  },
  {
   "cell_type": "code",
   "execution_count": null,
   "id": "5ee694dd-8e01-4a51-a5c6-1007b57e3f74",
   "metadata": {},
   "outputs": [],
   "source": []
  },
  {
   "cell_type": "markdown",
   "id": "09fec79f-2017-4c46-a69c-7d8ee19c6e20",
   "metadata": {},
   "source": [
    "## Kitchen\n"
   ]
  },
  {
   "cell_type": "markdown",
   "id": "2ad19670-514d-4ef2-89cf-536891227be7",
   "metadata": {},
   "source": [
    "Kitchen : Kitchens above grade"
   ]
  },
  {
   "cell_type": "code",
   "execution_count": null,
   "id": "2600ec2f-a1f8-42dc-af70-a5bc528a3b9f",
   "metadata": {},
   "outputs": [],
   "source": []
  },
  {
   "cell_type": "markdown",
   "id": "36d607f3-63aa-4fd5-9fe6-b0b959864ef2",
   "metadata": {},
   "source": [
    "## KitchenQual"
   ]
  },
  {
   "cell_type": "markdown",
   "id": "a2b261df-6d56-48fe-bc0e-95d8b187f5cf",
   "metadata": {},
   "source": [
    "KitchenQual: Kitchen quality\n",
    "\n",
    "       Ex\tExcellent\n",
    "       Gd\tGood\n",
    "       TA\tTypical/Average\n",
    "       Fa\tFair\n",
    "       Po\tPoor"
   ]
  },
  {
   "cell_type": "code",
   "execution_count": 46,
   "id": "27d99120-cdaf-404a-86ac-e89dc7bbc340",
   "metadata": {},
   "outputs": [],
   "source": [
    "cleaned_data['KitchenQual'] = cleaned_data['KitchenQual'].replace({\n",
    "    'Ex': 5,\n",
    "    'Gd': 4,\n",
    "    'TA': 3,\n",
    "    'Fa': 2,\n",
    "    'Po': 1\n",
    "})\n"
   ]
  },
  {
   "cell_type": "code",
   "execution_count": null,
   "id": "05c95a35-e4eb-4f33-89f0-9098596d3a56",
   "metadata": {},
   "outputs": [],
   "source": []
  },
  {
   "cell_type": "markdown",
   "id": "0cda80ca-8259-4fae-9777-86f361cfbda6",
   "metadata": {},
   "source": [
    "## TotRmsAbvGrd"
   ]
  },
  {
   "cell_type": "markdown",
   "id": "4994836e-e57b-4c80-b1b1-bc1af90116b3",
   "metadata": {},
   "source": [
    "TotRmsAbvGrd: Total rooms above grade (does not include bathrooms)\n"
   ]
  },
  {
   "cell_type": "code",
   "execution_count": null,
   "id": "354092f5-4020-4bc0-bec6-619b41f4a4bd",
   "metadata": {},
   "outputs": [],
   "source": []
  },
  {
   "cell_type": "markdown",
   "id": "aa425dbc-3732-4a10-abcc-517b7cd8d7b0",
   "metadata": {},
   "source": [
    "## Functional"
   ]
  },
  {
   "cell_type": "markdown",
   "id": "2e5ddf95-bd7e-4264-87fe-f200490c0788",
   "metadata": {},
   "source": [
    "Functional: Home functionality (Assume typical unless deductions are warranted)\n",
    "\n",
    "       Typ\tTypical Functionality\n",
    "       Min1\tMinor Deductions 1\n",
    "       Min2\tMinor Deductions 2\n",
    "       Mod\tModerate Deductions\n",
    "       Maj1\tMajor Deductions 1\n",
    "       Maj2\tMajor Deductions 2\n",
    "       Sev\tSeverely Damaged\n",
    "       Sal\tSalvage only\n"
   ]
  },
  {
   "cell_type": "code",
   "execution_count": 47,
   "id": "2673e815-1fd2-4f70-b454-7b8f769b195e",
   "metadata": {
    "tags": []
   },
   "outputs": [],
   "source": [
    "cleaned_data['Functional'] = cleaned_data['Functional'].replace({\n",
    "    'Typ': 7,\n",
    "    'Min1': 6,\n",
    "    'Min2': 5,\n",
    "    'Mod': 4,\n",
    "    'Maj1': 3,\n",
    "    'Maj2': 2,\n",
    "    'Sev': 1,\n",
    "    'Sal': 0\n",
    "})\n"
   ]
  },
  {
   "cell_type": "code",
   "execution_count": null,
   "id": "e8adcc35-99fc-4c30-8600-8da3c389d195",
   "metadata": {},
   "outputs": [],
   "source": []
  },
  {
   "cell_type": "markdown",
   "id": "c918436b-408b-4a37-8db4-c190bdaecfc9",
   "metadata": {},
   "source": [
    "## Fireplaces"
   ]
  },
  {
   "cell_type": "markdown",
   "id": "02cf3d7c-3126-48a3-b1e1-64907ebfa18d",
   "metadata": {},
   "source": [
    "Fireplaces: Number of fireplaces"
   ]
  },
  {
   "cell_type": "code",
   "execution_count": null,
   "id": "b6a55e2e-c220-4664-b193-1dc09884a9ce",
   "metadata": {},
   "outputs": [],
   "source": []
  },
  {
   "cell_type": "markdown",
   "id": "91e86d68-d994-476d-897d-02692d10101d",
   "metadata": {},
   "source": [
    "## FireplaceQu\n"
   ]
  },
  {
   "cell_type": "markdown",
   "id": "b01db6ef-f5f8-4fdb-9fbe-2bf4fac641c6",
   "metadata": {},
   "source": [
    "FireplaceQu: Fireplace quality\n",
    "\n",
    "       Ex\tExcellent - Exceptional Masonry Fireplace\n",
    "       Gd\tGood - Masonry Fireplace in main level\n",
    "       TA\tAverage - Prefabricated Fireplace in main living area or Masonry Fireplace in basement\n",
    "       Fa\tFair - Prefabricated Fireplace in basement\n",
    "       Po\tPoor - Ben Franklin Stove\n",
    "       NA\tNo Fireplace"
   ]
  },
  {
   "cell_type": "code",
   "execution_count": 48,
   "id": "b494e02d-bfd6-4a6d-80c7-8789e187a2f2",
   "metadata": {
    "tags": []
   },
   "outputs": [],
   "source": [
    "cleaned_data['FireplaceQu'].fillna('NA', inplace=True)\n",
    "cleaned_data['FireplaceQu'] = cleaned_data['FireplaceQu'].replace({\n",
    "    'Ex': 5,\n",
    "    'Gd': 4,\n",
    "    'TA': 3,\n",
    "    'Fa': 2,\n",
    "    'Po': 1,\n",
    "    'NA': 0\n",
    "})\n"
   ]
  },
  {
   "cell_type": "code",
   "execution_count": null,
   "id": "5c33b5b2-0f6e-4efb-977f-b4f4a3a0d98d",
   "metadata": {},
   "outputs": [],
   "source": []
  },
  {
   "cell_type": "markdown",
   "id": "2b09e0f6-c3f1-46b2-8445-bc3ffb28ea60",
   "metadata": {},
   "source": [
    "## GarageType"
   ]
  },
  {
   "cell_type": "markdown",
   "id": "597f437b-114e-487b-85e0-19e2f1e358b6",
   "metadata": {},
   "source": [
    "GarageType: Garage location\n",
    "\t\t\n",
    "       2Types\tMore than one type of garage\n",
    "       Attchd\tAttached to home\n",
    "       Basment\tBasement Garage\n",
    "       BuiltIn\tBuilt-In (Garage part of house - typically has room above garage)\n",
    "       CarPort\tCar Port\n",
    "       Detchd\tDetached from home\n",
    "       NA\tNo Garage"
   ]
  },
  {
   "cell_type": "code",
   "execution_count": 49,
   "id": "e36b1f10-8218-43b7-beb3-bccbb55c4dab",
   "metadata": {
    "tags": []
   },
   "outputs": [],
   "source": [
    "cleaned_data['GarageType'] = cleaned_data['GarageType'].fillna('No Garage')\n",
    "\n",
    "cleaned_data['GarageType_Reduced'] = cleaned_data['GarageType'].replace({\n",
    "    'Attchd': 'Attached', \n",
    "    'BuiltIn': 'Attached', \n",
    "    'Detchd': 'Detached', \n",
    "    'Basment': 'Detached', \n",
    "    'CarPort': 'Detached', \n",
    "    '2Types': 'Other',\n",
    "    'No Garage': 'No Garage'\n",
    "})\n",
    "\n",
    "garage_dummies = pd.get_dummies(cleaned_data['GarageType_Reduced'], prefix='GarageType')\n",
    "\n",
    "cleaned_data = pd.concat([cleaned_data, garage_dummies], axis=1)\n",
    "cleaned_data = cleaned_data.drop(columns=['GarageType', 'GarageType_Reduced'])\n"
   ]
  },
  {
   "cell_type": "code",
   "execution_count": null,
   "id": "c13ee75a-4b54-44d8-a109-7de1f159c6d2",
   "metadata": {},
   "outputs": [],
   "source": []
  },
  {
   "cell_type": "markdown",
   "id": "1cf9bfde-0179-4f01-a059-c309601b3ea4",
   "metadata": {
    "tags": []
   },
   "source": [
    "## GarageYrBlt"
   ]
  },
  {
   "cell_type": "markdown",
   "id": "fc37606d-c1b1-44f0-8807-1db91624afd3",
   "metadata": {
    "tags": []
   },
   "source": [
    "GarageYrBlt: Year garage was built\n"
   ]
  },
  {
   "cell_type": "code",
   "execution_count": 50,
   "id": "8ecef662-f580-4cd4-800d-425455f1d3cf",
   "metadata": {
    "tags": []
   },
   "outputs": [],
   "source": [
    "cleaned_data['GarageAge'] = 2024 - cleaned_data['GarageYrBlt']\n",
    "cleaned_data['GarageAge'] = cleaned_data['GarageAge'].fillna(0)\n",
    "cleaned_data = cleaned_data.drop(columns=['GarageYrBlt'])\n",
    "\n"
   ]
  },
  {
   "cell_type": "code",
   "execution_count": null,
   "id": "7459173c-d7d7-44ed-8a8c-1f86f87a0b55",
   "metadata": {},
   "outputs": [],
   "source": []
  },
  {
   "cell_type": "markdown",
   "id": "462012b5-1417-48cb-89d6-9b3c917bda67",
   "metadata": {},
   "source": [
    "## GarageFinish"
   ]
  },
  {
   "cell_type": "markdown",
   "id": "159d4a40-7d00-4ef0-94b8-5069b8a27ec3",
   "metadata": {},
   "source": [
    "GarageFinish: Interior finish of the garage\n",
    "\n",
    "       Fin\tFinished\n",
    "       RFn\tRough Finished\t\n",
    "       Unf\tUnfinished\n",
    "       NA\tNo Garage"
   ]
  },
  {
   "cell_type": "code",
   "execution_count": 51,
   "id": "fcf52982-0ac2-4c3a-af84-7e37d587e316",
   "metadata": {
    "tags": []
   },
   "outputs": [],
   "source": [
    "cleaned_data['GarageFinish'].fillna('NA', inplace=True)\n",
    "cleaned_data['GarageFinish'] = cleaned_data['GarageFinish'].replace({\n",
    "    'Fin': 3,\n",
    "    'RFn': 2,\n",
    "    'Unf': 1,\n",
    "    'NA': 0\n",
    "})"
   ]
  },
  {
   "cell_type": "code",
   "execution_count": null,
   "id": "0f5b525a-f705-460d-bc04-31d3dba7054c",
   "metadata": {},
   "outputs": [],
   "source": []
  },
  {
   "cell_type": "markdown",
   "id": "e0e8cd97-169d-4db7-a6d6-a1bc01e54d34",
   "metadata": {},
   "source": [
    "## GarageCars "
   ]
  },
  {
   "cell_type": "markdown",
   "id": "ed3fe68c-6f1b-4761-a3bb-834e3582d6b6",
   "metadata": {},
   "source": [
    "GarageCars: Size of garage in car capacity\n"
   ]
  },
  {
   "cell_type": "code",
   "execution_count": null,
   "id": "5dc2e94c-30d6-4aab-a3fc-3d974d918acd",
   "metadata": {},
   "outputs": [],
   "source": []
  },
  {
   "cell_type": "markdown",
   "id": "95265247-d00d-4670-a9d6-cc69e7cf767a",
   "metadata": {},
   "source": [
    "## GarageArea"
   ]
  },
  {
   "cell_type": "markdown",
   "id": "d3302bf8-4933-485b-933f-c67135eab965",
   "metadata": {},
   "source": [
    "GarageArea: Size of garage in square feet\n"
   ]
  },
  {
   "cell_type": "code",
   "execution_count": null,
   "id": "31dc5800-63b0-4b61-8821-6a76cba56b01",
   "metadata": {},
   "outputs": [],
   "source": []
  },
  {
   "cell_type": "markdown",
   "id": "c16d10ec-2236-4929-9ce0-1cb8b585206a",
   "metadata": {},
   "source": [
    "## GarageQual"
   ]
  },
  {
   "cell_type": "markdown",
   "id": "35a8c2eb-6744-4422-a035-dbf95772e89b",
   "metadata": {},
   "source": [
    "GarageQual: Garage quality\n",
    "\n",
    "       Ex\tExcellent\n",
    "       Gd\tGood\n",
    "       TA\tTypical/Average\n",
    "       Fa\tFair\n",
    "       Po\tPoor\n",
    "       NA\tNo Garage"
   ]
  },
  {
   "cell_type": "code",
   "execution_count": 52,
   "id": "b16249f1-29d6-4c94-8d15-e6898b801613",
   "metadata": {
    "tags": []
   },
   "outputs": [],
   "source": [
    "cleaned_data['GarageQual'].fillna('NA', inplace=True)\n",
    "cleaned_data['GarageQual'] = cleaned_data['GarageQual'].replace({\n",
    "    'Ex': 5,\n",
    "    'Gd': 4,\n",
    "    'TA': 3,\n",
    "    'Fa': 2,\n",
    "    'Po': 1,\n",
    "    'NA': 0\n",
    "})\n"
   ]
  },
  {
   "cell_type": "code",
   "execution_count": null,
   "id": "ca6d21e7-ef90-4f56-970e-25fb28ff8212",
   "metadata": {},
   "outputs": [],
   "source": []
  },
  {
   "cell_type": "markdown",
   "id": "aa6ad36f-c024-452b-a4e4-1341e0c59aa5",
   "metadata": {
    "tags": []
   },
   "source": [
    "## GarageCond"
   ]
  },
  {
   "cell_type": "markdown",
   "id": "797a5526-e24b-4893-8c2c-5f30da6117c8",
   "metadata": {
    "tags": []
   },
   "source": [
    "GarageCond: Garage condition\n",
    "\n",
    "       Ex\tExcellent\n",
    "       Gd\tGood\n",
    "       TA\tTypical/Average\n",
    "       Fa\tFair\n",
    "       Po\tPoor\n",
    "       NA\tNo Garage"
   ]
  },
  {
   "cell_type": "code",
   "execution_count": 53,
   "id": "f688801b-d052-4386-a425-7b59a25601df",
   "metadata": {
    "tags": []
   },
   "outputs": [],
   "source": [
    "cleaned_data['GarageCond'].fillna('NA', inplace=True)\n",
    "cleaned_data['GarageCond'] = cleaned_data['GarageCond'].replace({\n",
    "    'Ex': 5,\n",
    "    'Gd': 4,\n",
    "    'TA': 3,\n",
    "    'Fa': 2,\n",
    "    'Po': 1,\n",
    "    'NA': 0\n",
    "})\n"
   ]
  },
  {
   "cell_type": "code",
   "execution_count": null,
   "id": "209048cc-fbcc-4e6b-a6dd-3174385819ad",
   "metadata": {},
   "outputs": [],
   "source": []
  },
  {
   "cell_type": "markdown",
   "id": "e4132b56-5440-4f22-bef0-9f5f3bf9fd4d",
   "metadata": {},
   "source": [
    "## PavedDrive"
   ]
  },
  {
   "cell_type": "markdown",
   "id": "1dea61f9-f8ff-45ab-8e8b-4aeea92f0fa6",
   "metadata": {},
   "source": [
    "PavedDrive: Paved driveway\n",
    "\n",
    "       Y\tPaved \n",
    "       P\tPartial Pavement\n",
    "       N\tDirt/Gravel\n",
    "\t\t"
   ]
  },
  {
   "cell_type": "code",
   "execution_count": 54,
   "id": "ee01bfa9-c266-4bcb-b704-1bf5130887c5",
   "metadata": {
    "tags": []
   },
   "outputs": [],
   "source": [
    "paveddrive_dummies = pd.get_dummies(cleaned_data['PavedDrive'], prefix='PavedDrive')\n",
    "cleaned_data = pd.concat([cleaned_data, paveddrive_dummies], axis=1)\n",
    "cleaned_data = cleaned_data.drop(columns=['PavedDrive'])\n"
   ]
  },
  {
   "cell_type": "code",
   "execution_count": null,
   "id": "56faabc1-5f47-4edf-bdc0-21a7265adf95",
   "metadata": {
    "tags": []
   },
   "outputs": [],
   "source": []
  },
  {
   "cell_type": "markdown",
   "id": "e19d280a-8474-4e03-bac8-2305a79e206b",
   "metadata": {},
   "source": [
    "## WoodDeckSF"
   ]
  },
  {
   "cell_type": "markdown",
   "id": "4849b0ee-0703-4f72-9a91-66deea3621e9",
   "metadata": {},
   "source": [
    "WoodDeckSF: Wood deck area in square feet\n"
   ]
  },
  {
   "cell_type": "code",
   "execution_count": null,
   "id": "5479983a-e582-4dfe-b925-e89daa932c42",
   "metadata": {},
   "outputs": [],
   "source": []
  },
  {
   "cell_type": "code",
   "execution_count": null,
   "id": "91e48f35-4442-4826-80dc-a485a0bf1b9c",
   "metadata": {},
   "outputs": [],
   "source": []
  },
  {
   "cell_type": "code",
   "execution_count": null,
   "id": "aabf94a6-d323-4e92-b568-759b488dab2e",
   "metadata": {},
   "outputs": [],
   "source": []
  },
  {
   "cell_type": "markdown",
   "id": "c8e8f477-5e29-459f-bd31-ab98f7295654",
   "metadata": {},
   "source": [
    "## OpenPorchSF, EnclosedPorch, 3SsnPorch y  ScreenPorch"
   ]
  },
  {
   "cell_type": "markdown",
   "id": "8be26259-ad97-4a15-980f-02cb403b239c",
   "metadata": {},
   "source": [
    "OpenPorchSF: Open porch area in square feet\n",
    "\n",
    "EnclosedPorch: Enclosed porch area in square feet\n",
    "\n",
    "3SsnPorch: Three season porch area in square feet\n",
    "\n",
    "ScreenPorch: Screen porch area in square feet\n"
   ]
  },
  {
   "cell_type": "code",
   "execution_count": 55,
   "id": "31948300-2eec-49ec-8bbc-804ad9ed339e",
   "metadata": {
    "tags": []
   },
   "outputs": [],
   "source": [
    "cleaned_data['TotalPorchSF'] = (\n",
    "    cleaned_data['OpenPorchSF'] + \n",
    "    cleaned_data['EnclosedPorch'] + \n",
    "    cleaned_data['3SsnPorch'] + \n",
    "    cleaned_data['ScreenPorch']\n",
    ")\n",
    "\n",
    "cleaned_data = cleaned_data.drop(columns=['OpenPorchSF', 'EnclosedPorch', '3SsnPorch', 'ScreenPorch'])\n"
   ]
  },
  {
   "cell_type": "code",
   "execution_count": null,
   "id": "2427aa70-f7a8-4651-a00f-e4284d4d97ca",
   "metadata": {},
   "outputs": [],
   "source": []
  },
  {
   "cell_type": "markdown",
   "id": "b47b7af0-e318-47ca-90ec-fd9d27876e3c",
   "metadata": {},
   "source": [
    "## PoolArea"
   ]
  },
  {
   "cell_type": "markdown",
   "id": "3e6e4a29-693f-4c70-a0c0-a6d1a38adf82",
   "metadata": {},
   "source": [
    "PoolArea: Pool area in square feet\n"
   ]
  },
  {
   "cell_type": "code",
   "execution_count": null,
   "id": "9660477a-5c1f-4313-861c-04c89c945aab",
   "metadata": {},
   "outputs": [],
   "source": []
  },
  {
   "cell_type": "markdown",
   "id": "eec97def-0755-4fca-8e10-011ba557e796",
   "metadata": {
    "tags": []
   },
   "source": [
    "## PoolQC"
   ]
  },
  {
   "cell_type": "markdown",
   "id": "99318bc3-2c09-40eb-beb9-7f6e2fca1874",
   "metadata": {},
   "source": [
    "PoolQC: Pool quality\n",
    "\t\t\n",
    "       Ex\tExcellent\n",
    "       Gd\tGood\n",
    "       TA\tAverage/Typical\n",
    "       Fa\tFair\n",
    "       NA\tNo Pool"
   ]
  },
  {
   "cell_type": "code",
   "execution_count": 56,
   "id": "268eb375-ea11-4bac-8fa8-2b906cf3bda2",
   "metadata": {
    "tags": []
   },
   "outputs": [],
   "source": [
    "cleaned_data = cleaned_data.drop(columns=['PoolQC'])\n",
    "\n"
   ]
  },
  {
   "cell_type": "code",
   "execution_count": null,
   "id": "a3356d7e-ad8c-4f59-a8a2-b70c1dd126bb",
   "metadata": {},
   "outputs": [],
   "source": []
  },
  {
   "cell_type": "markdown",
   "id": "82c3e092-f0ee-4cb1-bea8-22019dab83f3",
   "metadata": {},
   "source": [
    "## Fence"
   ]
  },
  {
   "cell_type": "markdown",
   "id": "81fd8cb0-019f-4882-860d-eefc3f12b411",
   "metadata": {},
   "source": [
    "Fence: Fence quality\n",
    "\t\t\n",
    "       GdPrv\tGood Privacy\n",
    "       MnPrv\tMinimum Privacy\n",
    "       GdWo\tGood Wood\n",
    "       MnWw\tMinimum Wood/Wire\n",
    "       NA\tNo Fence"
   ]
  },
  {
   "cell_type": "code",
   "execution_count": 57,
   "id": "1e6787c8-490e-4967-88f9-13c6080e5325",
   "metadata": {
    "tags": []
   },
   "outputs": [],
   "source": [
    "cleaned_data = cleaned_data.drop(columns=['Fence'])\n"
   ]
  },
  {
   "cell_type": "code",
   "execution_count": null,
   "id": "0982f32e-3ef5-40ca-91e8-0af728681d6c",
   "metadata": {},
   "outputs": [],
   "source": []
  },
  {
   "cell_type": "markdown",
   "id": "63da7bf2-0ecc-491c-8e3e-2be8c6674526",
   "metadata": {},
   "source": [
    "## MiscFeature"
   ]
  },
  {
   "cell_type": "markdown",
   "id": "91eef8a8-5254-4164-8f38-2a179b0fb217",
   "metadata": {},
   "source": [
    "MiscFeature: Miscellaneous feature not covered in other categories\n",
    "\t\t\n",
    "       Elev\tElevator\n",
    "       Gar2\t2nd Garage (if not described in garage section)\n",
    "       Othr\tOther\n",
    "       Shed\tShed (over 100 SF)\n",
    "       TenC\tTennis Court\n",
    "       NA\tNone"
   ]
  },
  {
   "cell_type": "code",
   "execution_count": 58,
   "id": "4cc0d86a-19df-4dab-802b-da23a0bdadb1",
   "metadata": {
    "tags": []
   },
   "outputs": [],
   "source": [
    "cleaned_data = cleaned_data.drop(columns=['MiscFeature'])\n"
   ]
  },
  {
   "cell_type": "code",
   "execution_count": null,
   "id": "705365cd-b561-41fb-92d8-4d71a1a84c4c",
   "metadata": {},
   "outputs": [],
   "source": []
  },
  {
   "cell_type": "markdown",
   "id": "07db28e9-9e7a-41d0-bd4f-89f2ceea86e7",
   "metadata": {},
   "source": [
    "## MiscVal\n"
   ]
  },
  {
   "cell_type": "markdown",
   "id": "916a7575-5c6e-44c2-91f1-aa71023ccb22",
   "metadata": {},
   "source": [
    "MiscVal: $Value of miscellaneous feature\n"
   ]
  },
  {
   "cell_type": "code",
   "execution_count": null,
   "id": "9f4f1866-9294-4b79-a5a4-2eb528b93385",
   "metadata": {},
   "outputs": [],
   "source": []
  },
  {
   "cell_type": "markdown",
   "id": "f0d89706-aae4-465d-bbed-7e9e8f1e5864",
   "metadata": {},
   "source": [
    "## MoSold"
   ]
  },
  {
   "cell_type": "markdown",
   "id": "0ee6f703-be4f-477a-99f0-1cfcdc8bf781",
   "metadata": {},
   "source": [
    "MoSold: Month Sold (MM)\n"
   ]
  },
  {
   "cell_type": "code",
   "execution_count": 59,
   "id": "28a52ccd-e76a-4e17-ab28-cca1958c3907",
   "metadata": {
    "tags": []
   },
   "outputs": [],
   "source": [
    "cleaned_data = cleaned_data.drop(columns=['MoSold'])\n"
   ]
  },
  {
   "cell_type": "code",
   "execution_count": null,
   "id": "f37e5b5c-7a79-41ae-b9b8-7c3acbfe7a7e",
   "metadata": {},
   "outputs": [],
   "source": []
  },
  {
   "cell_type": "markdown",
   "id": "756a560a-331a-492a-90ce-cfcc5779925b",
   "metadata": {},
   "source": [
    " ## YrSold"
   ]
  },
  {
   "cell_type": "markdown",
   "id": "f3910733-0b06-4f9f-aecd-e63bc276acca",
   "metadata": {
    "tags": []
   },
   "source": [
    "YrSold: Year Sold (YYYY)\n"
   ]
  },
  {
   "cell_type": "code",
   "execution_count": 60,
   "id": "33e55f39-4d21-46bf-9870-64a742c6671a",
   "metadata": {
    "tags": []
   },
   "outputs": [],
   "source": [
    "cleaned_data['AgeSold'] = 2024 - cleaned_data['YrSold']\n",
    "cleaned_data = cleaned_data.drop(columns=['YrSold'])\n"
   ]
  },
  {
   "cell_type": "code",
   "execution_count": null,
   "id": "ef043bfb-a615-46d2-bcc6-68a3aea351a4",
   "metadata": {},
   "outputs": [],
   "source": []
  },
  {
   "cell_type": "markdown",
   "id": "4edca3a2-1250-4700-b714-318e91a825c9",
   "metadata": {},
   "source": [
    "## SaleType"
   ]
  },
  {
   "cell_type": "markdown",
   "id": "63463ba4-cb2d-4edd-9169-fa8bdb86560e",
   "metadata": {},
   "source": [
    "SaleType: Type of sale\n",
    "\t\t\n",
    "       WD \tWarranty Deed - Conventional\n",
    "       CWD\tWarranty Deed - Cash\n",
    "       VWD\tWarranty Deed - VA Loan\n",
    "       New\tHome just constructed and sold\n",
    "       COD\tCourt Officer Deed/Estate\n",
    "       Con\tContract 15% Down payment regular terms\n",
    "       ConLw\tContract Low Down payment and low interest\n",
    "       ConLI\tContract Low Interest\n",
    "       ConLD\tContract Low Down\n",
    "       Oth\tOther\n",
    "\t\t"
   ]
  },
  {
   "cell_type": "code",
   "execution_count": 61,
   "id": "ab5e8127-d7d1-468b-b168-28bb589f0c8e",
   "metadata": {
    "tags": []
   },
   "outputs": [],
   "source": [
    "sale_type_dummies = pd.get_dummies(cleaned_data['SaleType'], prefix='SaleType')\n",
    "cleaned_data = pd.concat([cleaned_data, sale_type_dummies], axis=1)\n",
    "cleaned_data = cleaned_data.drop(columns=['SaleType'])\n"
   ]
  },
  {
   "cell_type": "code",
   "execution_count": null,
   "id": "a6babaf8-356e-4819-8ebd-6d64cf822e20",
   "metadata": {},
   "outputs": [],
   "source": []
  },
  {
   "cell_type": "markdown",
   "id": "5a348605-b461-430e-a02d-57d4e09f2fed",
   "metadata": {},
   "source": [
    "## SaleCondition"
   ]
  },
  {
   "cell_type": "markdown",
   "id": "286093dd-13fd-4313-9464-2d19cfac4812",
   "metadata": {},
   "source": [
    "SaleCondition: Condition of sale\n",
    "\n",
    "       Normal\tNormal Sale\n",
    "       Abnorml\tAbnormal Sale -  trade, foreclosure, short sale\n",
    "       AdjLand\tAdjoining Land Purchase\n",
    "       Alloca\tAllocation - two linked properties with separate deeds, typically condo with a garage unit\t\n",
    "       Family\tSale between family members\n",
    "       Partial\tHome was not completed when last assessed (associated with New Homes)"
   ]
  },
  {
   "cell_type": "code",
   "execution_count": 62,
   "id": "7a059551-4b62-4412-8a7d-8cd50012492c",
   "metadata": {
    "tags": []
   },
   "outputs": [],
   "source": [
    "sale_type_dummies = pd.get_dummies(cleaned_data['SaleCondition'], prefix='Salecondition')\n",
    "cleaned_data = pd.concat([cleaned_data, sale_type_dummies], axis=1)\n",
    "cleaned_data = cleaned_data.drop(columns=['SaleCondition'])"
   ]
  },
  {
   "cell_type": "code",
   "execution_count": 63,
   "id": "264c6317-f59f-47a1-a9f7-11dd6a0006e8",
   "metadata": {
    "tags": []
   },
   "outputs": [
    {
     "data": {
      "text/html": [
       "<div>\n",
       "<style scoped>\n",
       "    .dataframe tbody tr th:only-of-type {\n",
       "        vertical-align: middle;\n",
       "    }\n",
       "\n",
       "    .dataframe tbody tr th {\n",
       "        vertical-align: top;\n",
       "    }\n",
       "\n",
       "    .dataframe thead th {\n",
       "        text-align: right;\n",
       "    }\n",
       "</style>\n",
       "<table border=\"1\" class=\"dataframe\">\n",
       "  <thead>\n",
       "    <tr style=\"text-align: right;\">\n",
       "      <th></th>\n",
       "      <th>Id</th>\n",
       "      <th>LotFrontage</th>\n",
       "      <th>LotArea</th>\n",
       "      <th>Neighborhood</th>\n",
       "      <th>OverallQual</th>\n",
       "      <th>OverallCond</th>\n",
       "      <th>RoofMatl</th>\n",
       "      <th>MasVnrArea</th>\n",
       "      <th>ExterQual</th>\n",
       "      <th>ExterCond</th>\n",
       "      <th>...</th>\n",
       "      <th>SaleType_ConLw</th>\n",
       "      <th>SaleType_New</th>\n",
       "      <th>SaleType_Oth</th>\n",
       "      <th>SaleType_WD</th>\n",
       "      <th>Salecondition_Abnorml</th>\n",
       "      <th>Salecondition_AdjLand</th>\n",
       "      <th>Salecondition_Alloca</th>\n",
       "      <th>Salecondition_Family</th>\n",
       "      <th>Salecondition_Normal</th>\n",
       "      <th>Salecondition_Partial</th>\n",
       "    </tr>\n",
       "  </thead>\n",
       "  <tbody>\n",
       "    <tr>\n",
       "      <th>0</th>\n",
       "      <td>1461</td>\n",
       "      <td>80.0</td>\n",
       "      <td>9.360741</td>\n",
       "      <td>1</td>\n",
       "      <td>5</td>\n",
       "      <td>6</td>\n",
       "      <td>1</td>\n",
       "      <td>0.0</td>\n",
       "      <td>2</td>\n",
       "      <td>2</td>\n",
       "      <td>...</td>\n",
       "      <td>0</td>\n",
       "      <td>0</td>\n",
       "      <td>0</td>\n",
       "      <td>1</td>\n",
       "      <td>0</td>\n",
       "      <td>0</td>\n",
       "      <td>0</td>\n",
       "      <td>0</td>\n",
       "      <td>1</td>\n",
       "      <td>0</td>\n",
       "    </tr>\n",
       "    <tr>\n",
       "      <th>1</th>\n",
       "      <td>1462</td>\n",
       "      <td>81.0</td>\n",
       "      <td>9.565775</td>\n",
       "      <td>1</td>\n",
       "      <td>6</td>\n",
       "      <td>6</td>\n",
       "      <td>1</td>\n",
       "      <td>108.0</td>\n",
       "      <td>2</td>\n",
       "      <td>2</td>\n",
       "      <td>...</td>\n",
       "      <td>0</td>\n",
       "      <td>0</td>\n",
       "      <td>0</td>\n",
       "      <td>1</td>\n",
       "      <td>0</td>\n",
       "      <td>0</td>\n",
       "      <td>0</td>\n",
       "      <td>0</td>\n",
       "      <td>1</td>\n",
       "      <td>0</td>\n",
       "    </tr>\n",
       "    <tr>\n",
       "      <th>2</th>\n",
       "      <td>1463</td>\n",
       "      <td>74.0</td>\n",
       "      <td>9.534668</td>\n",
       "      <td>1</td>\n",
       "      <td>5</td>\n",
       "      <td>5</td>\n",
       "      <td>1</td>\n",
       "      <td>0.0</td>\n",
       "      <td>2</td>\n",
       "      <td>2</td>\n",
       "      <td>...</td>\n",
       "      <td>0</td>\n",
       "      <td>0</td>\n",
       "      <td>0</td>\n",
       "      <td>1</td>\n",
       "      <td>0</td>\n",
       "      <td>0</td>\n",
       "      <td>0</td>\n",
       "      <td>0</td>\n",
       "      <td>1</td>\n",
       "      <td>0</td>\n",
       "    </tr>\n",
       "    <tr>\n",
       "      <th>3</th>\n",
       "      <td>1464</td>\n",
       "      <td>78.0</td>\n",
       "      <td>9.208238</td>\n",
       "      <td>1</td>\n",
       "      <td>6</td>\n",
       "      <td>6</td>\n",
       "      <td>1</td>\n",
       "      <td>20.0</td>\n",
       "      <td>2</td>\n",
       "      <td>2</td>\n",
       "      <td>...</td>\n",
       "      <td>0</td>\n",
       "      <td>0</td>\n",
       "      <td>0</td>\n",
       "      <td>1</td>\n",
       "      <td>0</td>\n",
       "      <td>0</td>\n",
       "      <td>0</td>\n",
       "      <td>0</td>\n",
       "      <td>1</td>\n",
       "      <td>0</td>\n",
       "    </tr>\n",
       "    <tr>\n",
       "      <th>4</th>\n",
       "      <td>1465</td>\n",
       "      <td>43.0</td>\n",
       "      <td>8.518392</td>\n",
       "      <td>2</td>\n",
       "      <td>8</td>\n",
       "      <td>5</td>\n",
       "      <td>1</td>\n",
       "      <td>0.0</td>\n",
       "      <td>3</td>\n",
       "      <td>2</td>\n",
       "      <td>...</td>\n",
       "      <td>0</td>\n",
       "      <td>0</td>\n",
       "      <td>0</td>\n",
       "      <td>1</td>\n",
       "      <td>0</td>\n",
       "      <td>0</td>\n",
       "      <td>0</td>\n",
       "      <td>0</td>\n",
       "      <td>1</td>\n",
       "      <td>0</td>\n",
       "    </tr>\n",
       "    <tr>\n",
       "      <th>...</th>\n",
       "      <td>...</td>\n",
       "      <td>...</td>\n",
       "      <td>...</td>\n",
       "      <td>...</td>\n",
       "      <td>...</td>\n",
       "      <td>...</td>\n",
       "      <td>...</td>\n",
       "      <td>...</td>\n",
       "      <td>...</td>\n",
       "      <td>...</td>\n",
       "      <td>...</td>\n",
       "      <td>...</td>\n",
       "      <td>...</td>\n",
       "      <td>...</td>\n",
       "      <td>...</td>\n",
       "      <td>...</td>\n",
       "      <td>...</td>\n",
       "      <td>...</td>\n",
       "      <td>...</td>\n",
       "      <td>...</td>\n",
       "      <td>...</td>\n",
       "    </tr>\n",
       "    <tr>\n",
       "      <th>1454</th>\n",
       "      <td>2915</td>\n",
       "      <td>21.0</td>\n",
       "      <td>7.568896</td>\n",
       "      <td>0</td>\n",
       "      <td>4</td>\n",
       "      <td>7</td>\n",
       "      <td>1</td>\n",
       "      <td>0.0</td>\n",
       "      <td>2</td>\n",
       "      <td>2</td>\n",
       "      <td>...</td>\n",
       "      <td>0</td>\n",
       "      <td>0</td>\n",
       "      <td>0</td>\n",
       "      <td>1</td>\n",
       "      <td>0</td>\n",
       "      <td>0</td>\n",
       "      <td>0</td>\n",
       "      <td>0</td>\n",
       "      <td>1</td>\n",
       "      <td>0</td>\n",
       "    </tr>\n",
       "    <tr>\n",
       "      <th>1455</th>\n",
       "      <td>2916</td>\n",
       "      <td>21.0</td>\n",
       "      <td>7.546974</td>\n",
       "      <td>0</td>\n",
       "      <td>4</td>\n",
       "      <td>5</td>\n",
       "      <td>1</td>\n",
       "      <td>0.0</td>\n",
       "      <td>2</td>\n",
       "      <td>2</td>\n",
       "      <td>...</td>\n",
       "      <td>0</td>\n",
       "      <td>0</td>\n",
       "      <td>0</td>\n",
       "      <td>1</td>\n",
       "      <td>1</td>\n",
       "      <td>0</td>\n",
       "      <td>0</td>\n",
       "      <td>0</td>\n",
       "      <td>0</td>\n",
       "      <td>0</td>\n",
       "    </tr>\n",
       "    <tr>\n",
       "      <th>1456</th>\n",
       "      <td>2917</td>\n",
       "      <td>160.0</td>\n",
       "      <td>9.903538</td>\n",
       "      <td>1</td>\n",
       "      <td>5</td>\n",
       "      <td>7</td>\n",
       "      <td>1</td>\n",
       "      <td>0.0</td>\n",
       "      <td>2</td>\n",
       "      <td>2</td>\n",
       "      <td>...</td>\n",
       "      <td>0</td>\n",
       "      <td>0</td>\n",
       "      <td>0</td>\n",
       "      <td>1</td>\n",
       "      <td>1</td>\n",
       "      <td>0</td>\n",
       "      <td>0</td>\n",
       "      <td>0</td>\n",
       "      <td>0</td>\n",
       "      <td>0</td>\n",
       "    </tr>\n",
       "    <tr>\n",
       "      <th>1457</th>\n",
       "      <td>2918</td>\n",
       "      <td>62.0</td>\n",
       "      <td>9.253591</td>\n",
       "      <td>1</td>\n",
       "      <td>5</td>\n",
       "      <td>5</td>\n",
       "      <td>1</td>\n",
       "      <td>0.0</td>\n",
       "      <td>2</td>\n",
       "      <td>2</td>\n",
       "      <td>...</td>\n",
       "      <td>0</td>\n",
       "      <td>0</td>\n",
       "      <td>0</td>\n",
       "      <td>1</td>\n",
       "      <td>0</td>\n",
       "      <td>0</td>\n",
       "      <td>0</td>\n",
       "      <td>0</td>\n",
       "      <td>1</td>\n",
       "      <td>0</td>\n",
       "    </tr>\n",
       "    <tr>\n",
       "      <th>1458</th>\n",
       "      <td>2919</td>\n",
       "      <td>74.0</td>\n",
       "      <td>9.172431</td>\n",
       "      <td>1</td>\n",
       "      <td>7</td>\n",
       "      <td>5</td>\n",
       "      <td>1</td>\n",
       "      <td>94.0</td>\n",
       "      <td>2</td>\n",
       "      <td>2</td>\n",
       "      <td>...</td>\n",
       "      <td>0</td>\n",
       "      <td>0</td>\n",
       "      <td>0</td>\n",
       "      <td>1</td>\n",
       "      <td>0</td>\n",
       "      <td>0</td>\n",
       "      <td>0</td>\n",
       "      <td>0</td>\n",
       "      <td>1</td>\n",
       "      <td>0</td>\n",
       "    </tr>\n",
       "  </tbody>\n",
       "</table>\n",
       "<p>1459 rows × 97 columns</p>\n",
       "</div>"
      ],
      "text/plain": [
       "        Id  LotFrontage   LotArea  Neighborhood  OverallQual  OverallCond  \\\n",
       "0     1461         80.0  9.360741             1            5            6   \n",
       "1     1462         81.0  9.565775             1            6            6   \n",
       "2     1463         74.0  9.534668             1            5            5   \n",
       "3     1464         78.0  9.208238             1            6            6   \n",
       "4     1465         43.0  8.518392             2            8            5   \n",
       "...    ...          ...       ...           ...          ...          ...   \n",
       "1454  2915         21.0  7.568896             0            4            7   \n",
       "1455  2916         21.0  7.546974             0            4            5   \n",
       "1456  2917        160.0  9.903538             1            5            7   \n",
       "1457  2918         62.0  9.253591             1            5            5   \n",
       "1458  2919         74.0  9.172431             1            7            5   \n",
       "\n",
       "      RoofMatl  MasVnrArea  ExterQual  ExterCond  ...  SaleType_ConLw  \\\n",
       "0            1         0.0          2          2  ...               0   \n",
       "1            1       108.0          2          2  ...               0   \n",
       "2            1         0.0          2          2  ...               0   \n",
       "3            1        20.0          2          2  ...               0   \n",
       "4            1         0.0          3          2  ...               0   \n",
       "...        ...         ...        ...        ...  ...             ...   \n",
       "1454         1         0.0          2          2  ...               0   \n",
       "1455         1         0.0          2          2  ...               0   \n",
       "1456         1         0.0          2          2  ...               0   \n",
       "1457         1         0.0          2          2  ...               0   \n",
       "1458         1        94.0          2          2  ...               0   \n",
       "\n",
       "      SaleType_New  SaleType_Oth  SaleType_WD  Salecondition_Abnorml  \\\n",
       "0                0             0            1                      0   \n",
       "1                0             0            1                      0   \n",
       "2                0             0            1                      0   \n",
       "3                0             0            1                      0   \n",
       "4                0             0            1                      0   \n",
       "...            ...           ...          ...                    ...   \n",
       "1454             0             0            1                      0   \n",
       "1455             0             0            1                      1   \n",
       "1456             0             0            1                      1   \n",
       "1457             0             0            1                      0   \n",
       "1458             0             0            1                      0   \n",
       "\n",
       "      Salecondition_AdjLand  Salecondition_Alloca  Salecondition_Family  \\\n",
       "0                         0                     0                     0   \n",
       "1                         0                     0                     0   \n",
       "2                         0                     0                     0   \n",
       "3                         0                     0                     0   \n",
       "4                         0                     0                     0   \n",
       "...                     ...                   ...                   ...   \n",
       "1454                      0                     0                     0   \n",
       "1455                      0                     0                     0   \n",
       "1456                      0                     0                     0   \n",
       "1457                      0                     0                     0   \n",
       "1458                      0                     0                     0   \n",
       "\n",
       "      Salecondition_Normal  Salecondition_Partial  \n",
       "0                        1                      0  \n",
       "1                        1                      0  \n",
       "2                        1                      0  \n",
       "3                        1                      0  \n",
       "4                        1                      0  \n",
       "...                    ...                    ...  \n",
       "1454                     1                      0  \n",
       "1455                     0                      0  \n",
       "1456                     0                      0  \n",
       "1457                     1                      0  \n",
       "1458                     1                      0  \n",
       "\n",
       "[1459 rows x 97 columns]"
      ]
     },
     "execution_count": 63,
     "metadata": {},
     "output_type": "execute_result"
    }
   ],
   "source": [
    "cleaned_data"
   ]
  },
  {
   "cell_type": "code",
   "execution_count": 64,
   "id": "328a81ab-10b8-4542-9285-a73dc1a74e95",
   "metadata": {
    "tags": []
   },
   "outputs": [
    {
     "data": {
      "text/html": [
       "<div>\n",
       "<style scoped>\n",
       "    .dataframe tbody tr th:only-of-type {\n",
       "        vertical-align: middle;\n",
       "    }\n",
       "\n",
       "    .dataframe tbody tr th {\n",
       "        vertical-align: top;\n",
       "    }\n",
       "\n",
       "    .dataframe thead th {\n",
       "        text-align: right;\n",
       "    }\n",
       "</style>\n",
       "<table border=\"1\" class=\"dataframe\">\n",
       "  <thead>\n",
       "    <tr style=\"text-align: right;\">\n",
       "      <th></th>\n",
       "      <th>column</th>\n",
       "      <th>dtype</th>\n",
       "      <th>instances</th>\n",
       "      <th>unique</th>\n",
       "      <th>missing_vals</th>\n",
       "      <th>duplicates</th>\n",
       "    </tr>\n",
       "  </thead>\n",
       "  <tbody>\n",
       "    <tr>\n",
       "      <th>0</th>\n",
       "      <td>Id</td>\n",
       "      <td>int64</td>\n",
       "      <td>1459</td>\n",
       "      <td>1459</td>\n",
       "      <td>0</td>\n",
       "      <td>0</td>\n",
       "    </tr>\n",
       "    <tr>\n",
       "      <th>1</th>\n",
       "      <td>LotFrontage</td>\n",
       "      <td>float64</td>\n",
       "      <td>1459</td>\n",
       "      <td>116</td>\n",
       "      <td>0</td>\n",
       "      <td>0</td>\n",
       "    </tr>\n",
       "    <tr>\n",
       "      <th>2</th>\n",
       "      <td>LotArea</td>\n",
       "      <td>float64</td>\n",
       "      <td>1459</td>\n",
       "      <td>1106</td>\n",
       "      <td>0</td>\n",
       "      <td>0</td>\n",
       "    </tr>\n",
       "    <tr>\n",
       "      <th>3</th>\n",
       "      <td>Neighborhood</td>\n",
       "      <td>int64</td>\n",
       "      <td>1459</td>\n",
       "      <td>3</td>\n",
       "      <td>0</td>\n",
       "      <td>0</td>\n",
       "    </tr>\n",
       "    <tr>\n",
       "      <th>4</th>\n",
       "      <td>OverallQual</td>\n",
       "      <td>int64</td>\n",
       "      <td>1459</td>\n",
       "      <td>10</td>\n",
       "      <td>0</td>\n",
       "      <td>0</td>\n",
       "    </tr>\n",
       "    <tr>\n",
       "      <th>5</th>\n",
       "      <td>OverallCond</td>\n",
       "      <td>int64</td>\n",
       "      <td>1459</td>\n",
       "      <td>9</td>\n",
       "      <td>0</td>\n",
       "      <td>0</td>\n",
       "    </tr>\n",
       "    <tr>\n",
       "      <th>6</th>\n",
       "      <td>RoofMatl</td>\n",
       "      <td>int64</td>\n",
       "      <td>1459</td>\n",
       "      <td>2</td>\n",
       "      <td>0</td>\n",
       "      <td>0</td>\n",
       "    </tr>\n",
       "    <tr>\n",
       "      <th>7</th>\n",
       "      <td>MasVnrArea</td>\n",
       "      <td>float64</td>\n",
       "      <td>1459</td>\n",
       "      <td>303</td>\n",
       "      <td>0</td>\n",
       "      <td>0</td>\n",
       "    </tr>\n",
       "    <tr>\n",
       "      <th>8</th>\n",
       "      <td>ExterQual</td>\n",
       "      <td>int64</td>\n",
       "      <td>1459</td>\n",
       "      <td>4</td>\n",
       "      <td>0</td>\n",
       "      <td>0</td>\n",
       "    </tr>\n",
       "    <tr>\n",
       "      <th>9</th>\n",
       "      <td>ExterCond</td>\n",
       "      <td>int64</td>\n",
       "      <td>1459</td>\n",
       "      <td>5</td>\n",
       "      <td>0</td>\n",
       "      <td>0</td>\n",
       "    </tr>\n",
       "    <tr>\n",
       "      <th>10</th>\n",
       "      <td>BsmtQual</td>\n",
       "      <td>int64</td>\n",
       "      <td>1459</td>\n",
       "      <td>5</td>\n",
       "      <td>0</td>\n",
       "      <td>0</td>\n",
       "    </tr>\n",
       "    <tr>\n",
       "      <th>11</th>\n",
       "      <td>BsmtCond</td>\n",
       "      <td>int64</td>\n",
       "      <td>1459</td>\n",
       "      <td>5</td>\n",
       "      <td>0</td>\n",
       "      <td>0</td>\n",
       "    </tr>\n",
       "    <tr>\n",
       "      <th>12</th>\n",
       "      <td>BsmtExposure</td>\n",
       "      <td>int64</td>\n",
       "      <td>1459</td>\n",
       "      <td>5</td>\n",
       "      <td>0</td>\n",
       "      <td>0</td>\n",
       "    </tr>\n",
       "    <tr>\n",
       "      <th>13</th>\n",
       "      <td>HeatingQC</td>\n",
       "      <td>int64</td>\n",
       "      <td>1459</td>\n",
       "      <td>5</td>\n",
       "      <td>0</td>\n",
       "      <td>0</td>\n",
       "    </tr>\n",
       "    <tr>\n",
       "      <th>14</th>\n",
       "      <td>CentralAir</td>\n",
       "      <td>int64</td>\n",
       "      <td>1459</td>\n",
       "      <td>2</td>\n",
       "      <td>0</td>\n",
       "      <td>0</td>\n",
       "    </tr>\n",
       "    <tr>\n",
       "      <th>15</th>\n",
       "      <td>1stFlrSF</td>\n",
       "      <td>int64</td>\n",
       "      <td>1459</td>\n",
       "      <td>789</td>\n",
       "      <td>0</td>\n",
       "      <td>0</td>\n",
       "    </tr>\n",
       "    <tr>\n",
       "      <th>16</th>\n",
       "      <td>2ndFlrSF</td>\n",
       "      <td>int64</td>\n",
       "      <td>1459</td>\n",
       "      <td>407</td>\n",
       "      <td>0</td>\n",
       "      <td>0</td>\n",
       "    </tr>\n",
       "    <tr>\n",
       "      <th>17</th>\n",
       "      <td>GrLivArea</td>\n",
       "      <td>int64</td>\n",
       "      <td>1459</td>\n",
       "      <td>879</td>\n",
       "      <td>0</td>\n",
       "      <td>0</td>\n",
       "    </tr>\n",
       "    <tr>\n",
       "      <th>18</th>\n",
       "      <td>BedroomAbvGr</td>\n",
       "      <td>int64</td>\n",
       "      <td>1459</td>\n",
       "      <td>7</td>\n",
       "      <td>0</td>\n",
       "      <td>0</td>\n",
       "    </tr>\n",
       "    <tr>\n",
       "      <th>19</th>\n",
       "      <td>KitchenAbvGr</td>\n",
       "      <td>int64</td>\n",
       "      <td>1459</td>\n",
       "      <td>3</td>\n",
       "      <td>0</td>\n",
       "      <td>0</td>\n",
       "    </tr>\n",
       "    <tr>\n",
       "      <th>20</th>\n",
       "      <td>KitchenQual</td>\n",
       "      <td>float64</td>\n",
       "      <td>1458</td>\n",
       "      <td>4</td>\n",
       "      <td>1</td>\n",
       "      <td>0</td>\n",
       "    </tr>\n",
       "    <tr>\n",
       "      <th>21</th>\n",
       "      <td>TotRmsAbvGrd</td>\n",
       "      <td>int64</td>\n",
       "      <td>1459</td>\n",
       "      <td>12</td>\n",
       "      <td>0</td>\n",
       "      <td>0</td>\n",
       "    </tr>\n",
       "    <tr>\n",
       "      <th>22</th>\n",
       "      <td>Functional</td>\n",
       "      <td>float64</td>\n",
       "      <td>1457</td>\n",
       "      <td>7</td>\n",
       "      <td>2</td>\n",
       "      <td>0</td>\n",
       "    </tr>\n",
       "    <tr>\n",
       "      <th>23</th>\n",
       "      <td>Fireplaces</td>\n",
       "      <td>int64</td>\n",
       "      <td>1459</td>\n",
       "      <td>5</td>\n",
       "      <td>0</td>\n",
       "      <td>0</td>\n",
       "    </tr>\n",
       "    <tr>\n",
       "      <th>24</th>\n",
       "      <td>FireplaceQu</td>\n",
       "      <td>int64</td>\n",
       "      <td>1459</td>\n",
       "      <td>6</td>\n",
       "      <td>0</td>\n",
       "      <td>0</td>\n",
       "    </tr>\n",
       "    <tr>\n",
       "      <th>25</th>\n",
       "      <td>GarageFinish</td>\n",
       "      <td>int64</td>\n",
       "      <td>1459</td>\n",
       "      <td>4</td>\n",
       "      <td>0</td>\n",
       "      <td>0</td>\n",
       "    </tr>\n",
       "    <tr>\n",
       "      <th>26</th>\n",
       "      <td>GarageCars</td>\n",
       "      <td>float64</td>\n",
       "      <td>1458</td>\n",
       "      <td>6</td>\n",
       "      <td>1</td>\n",
       "      <td>0</td>\n",
       "    </tr>\n",
       "    <tr>\n",
       "      <th>27</th>\n",
       "      <td>GarageArea</td>\n",
       "      <td>float64</td>\n",
       "      <td>1458</td>\n",
       "      <td>459</td>\n",
       "      <td>1</td>\n",
       "      <td>0</td>\n",
       "    </tr>\n",
       "    <tr>\n",
       "      <th>28</th>\n",
       "      <td>GarageQual</td>\n",
       "      <td>int64</td>\n",
       "      <td>1459</td>\n",
       "      <td>5</td>\n",
       "      <td>0</td>\n",
       "      <td>0</td>\n",
       "    </tr>\n",
       "    <tr>\n",
       "      <th>29</th>\n",
       "      <td>GarageCond</td>\n",
       "      <td>int64</td>\n",
       "      <td>1459</td>\n",
       "      <td>6</td>\n",
       "      <td>0</td>\n",
       "      <td>0</td>\n",
       "    </tr>\n",
       "    <tr>\n",
       "      <th>30</th>\n",
       "      <td>WoodDeckSF</td>\n",
       "      <td>int64</td>\n",
       "      <td>1459</td>\n",
       "      <td>263</td>\n",
       "      <td>0</td>\n",
       "      <td>0</td>\n",
       "    </tr>\n",
       "    <tr>\n",
       "      <th>31</th>\n",
       "      <td>PoolArea</td>\n",
       "      <td>int64</td>\n",
       "      <td>1459</td>\n",
       "      <td>7</td>\n",
       "      <td>0</td>\n",
       "      <td>0</td>\n",
       "    </tr>\n",
       "    <tr>\n",
       "      <th>32</th>\n",
       "      <td>MiscVal</td>\n",
       "      <td>int64</td>\n",
       "      <td>1459</td>\n",
       "      <td>26</td>\n",
       "      <td>0</td>\n",
       "      <td>0</td>\n",
       "    </tr>\n",
       "    <tr>\n",
       "      <th>33</th>\n",
       "      <td>MSSubClass_1.5-STORY</td>\n",
       "      <td>uint8</td>\n",
       "      <td>1459</td>\n",
       "      <td>2</td>\n",
       "      <td>0</td>\n",
       "      <td>0</td>\n",
       "    </tr>\n",
       "    <tr>\n",
       "      <th>34</th>\n",
       "      <td>MSSubClass_2 FAMILY CONVERSION</td>\n",
       "      <td>uint8</td>\n",
       "      <td>1459</td>\n",
       "      <td>2</td>\n",
       "      <td>0</td>\n",
       "      <td>0</td>\n",
       "    </tr>\n",
       "    <tr>\n",
       "      <th>35</th>\n",
       "      <td>MSSubClass_2-STORY</td>\n",
       "      <td>uint8</td>\n",
       "      <td>1459</td>\n",
       "      <td>2</td>\n",
       "      <td>0</td>\n",
       "      <td>0</td>\n",
       "    </tr>\n",
       "    <tr>\n",
       "      <th>36</th>\n",
       "      <td>MSSubClass_2.5-STORY</td>\n",
       "      <td>uint8</td>\n",
       "      <td>1459</td>\n",
       "      <td>2</td>\n",
       "      <td>0</td>\n",
       "      <td>0</td>\n",
       "    </tr>\n",
       "    <tr>\n",
       "      <th>37</th>\n",
       "      <td>MSSubClass_DUPLEX</td>\n",
       "      <td>uint8</td>\n",
       "      <td>1459</td>\n",
       "      <td>2</td>\n",
       "      <td>0</td>\n",
       "      <td>0</td>\n",
       "    </tr>\n",
       "    <tr>\n",
       "      <th>38</th>\n",
       "      <td>MSSubClass_SPLIT/MULTI-LEVEL</td>\n",
       "      <td>uint8</td>\n",
       "      <td>1459</td>\n",
       "      <td>2</td>\n",
       "      <td>0</td>\n",
       "      <td>0</td>\n",
       "    </tr>\n",
       "    <tr>\n",
       "      <th>39</th>\n",
       "      <td>MSZoning_FV</td>\n",
       "      <td>uint8</td>\n",
       "      <td>1459</td>\n",
       "      <td>2</td>\n",
       "      <td>0</td>\n",
       "      <td>0</td>\n",
       "    </tr>\n",
       "    <tr>\n",
       "      <th>40</th>\n",
       "      <td>MSZoning_RH</td>\n",
       "      <td>uint8</td>\n",
       "      <td>1459</td>\n",
       "      <td>2</td>\n",
       "      <td>0</td>\n",
       "      <td>0</td>\n",
       "    </tr>\n",
       "    <tr>\n",
       "      <th>41</th>\n",
       "      <td>MSZoning_RL</td>\n",
       "      <td>uint8</td>\n",
       "      <td>1459</td>\n",
       "      <td>2</td>\n",
       "      <td>0</td>\n",
       "      <td>0</td>\n",
       "    </tr>\n",
       "    <tr>\n",
       "      <th>42</th>\n",
       "      <td>MSZoning_RM</td>\n",
       "      <td>uint8</td>\n",
       "      <td>1459</td>\n",
       "      <td>2</td>\n",
       "      <td>0</td>\n",
       "      <td>0</td>\n",
       "    </tr>\n",
       "    <tr>\n",
       "      <th>43</th>\n",
       "      <td>LotShape_Reg</td>\n",
       "      <td>uint8</td>\n",
       "      <td>1459</td>\n",
       "      <td>2</td>\n",
       "      <td>0</td>\n",
       "      <td>0</td>\n",
       "    </tr>\n",
       "    <tr>\n",
       "      <th>44</th>\n",
       "      <td>LandContour_No Lvl</td>\n",
       "      <td>uint8</td>\n",
       "      <td>1459</td>\n",
       "      <td>2</td>\n",
       "      <td>0</td>\n",
       "      <td>0</td>\n",
       "    </tr>\n",
       "    <tr>\n",
       "      <th>45</th>\n",
       "      <td>LotConfig_CulDSac</td>\n",
       "      <td>uint8</td>\n",
       "      <td>1459</td>\n",
       "      <td>2</td>\n",
       "      <td>0</td>\n",
       "      <td>0</td>\n",
       "    </tr>\n",
       "    <tr>\n",
       "      <th>46</th>\n",
       "      <td>LotConfig_FR2</td>\n",
       "      <td>uint8</td>\n",
       "      <td>1459</td>\n",
       "      <td>2</td>\n",
       "      <td>0</td>\n",
       "      <td>0</td>\n",
       "    </tr>\n",
       "    <tr>\n",
       "      <th>47</th>\n",
       "      <td>LotConfig_FR3</td>\n",
       "      <td>uint8</td>\n",
       "      <td>1459</td>\n",
       "      <td>2</td>\n",
       "      <td>0</td>\n",
       "      <td>0</td>\n",
       "    </tr>\n",
       "    <tr>\n",
       "      <th>48</th>\n",
       "      <td>LotConfig_Inside</td>\n",
       "      <td>uint8</td>\n",
       "      <td>1459</td>\n",
       "      <td>2</td>\n",
       "      <td>0</td>\n",
       "      <td>0</td>\n",
       "    </tr>\n",
       "    <tr>\n",
       "      <th>49</th>\n",
       "      <td>LandSlope_No Gtl</td>\n",
       "      <td>uint8</td>\n",
       "      <td>1459</td>\n",
       "      <td>2</td>\n",
       "      <td>0</td>\n",
       "      <td>0</td>\n",
       "    </tr>\n",
       "    <tr>\n",
       "      <th>50</th>\n",
       "      <td>Street_Condition</td>\n",
       "      <td>uint8</td>\n",
       "      <td>1459</td>\n",
       "      <td>3</td>\n",
       "      <td>0</td>\n",
       "      <td>0</td>\n",
       "    </tr>\n",
       "    <tr>\n",
       "      <th>51</th>\n",
       "      <td>Railroad_Condition</td>\n",
       "      <td>uint8</td>\n",
       "      <td>1459</td>\n",
       "      <td>2</td>\n",
       "      <td>0</td>\n",
       "      <td>0</td>\n",
       "    </tr>\n",
       "    <tr>\n",
       "      <th>52</th>\n",
       "      <td>PositiveFeature_Condition</td>\n",
       "      <td>uint8</td>\n",
       "      <td>1459</td>\n",
       "      <td>3</td>\n",
       "      <td>0</td>\n",
       "      <td>0</td>\n",
       "    </tr>\n",
       "    <tr>\n",
       "      <th>53</th>\n",
       "      <td>BldgGroup_Doble Vivienda</td>\n",
       "      <td>uint8</td>\n",
       "      <td>1459</td>\n",
       "      <td>2</td>\n",
       "      <td>0</td>\n",
       "      <td>0</td>\n",
       "    </tr>\n",
       "    <tr>\n",
       "      <th>54</th>\n",
       "      <td>BldgGroup_Múltiples Unidades</td>\n",
       "      <td>uint8</td>\n",
       "      <td>1459</td>\n",
       "      <td>2</td>\n",
       "      <td>0</td>\n",
       "      <td>0</td>\n",
       "    </tr>\n",
       "    <tr>\n",
       "      <th>55</th>\n",
       "      <td>BldgGroup_Vivienda Individual</td>\n",
       "      <td>uint8</td>\n",
       "      <td>1459</td>\n",
       "      <td>2</td>\n",
       "      <td>0</td>\n",
       "      <td>0</td>\n",
       "    </tr>\n",
       "    <tr>\n",
       "      <th>56</th>\n",
       "      <td>Age</td>\n",
       "      <td>int64</td>\n",
       "      <td>1459</td>\n",
       "      <td>106</td>\n",
       "      <td>0</td>\n",
       "      <td>0</td>\n",
       "    </tr>\n",
       "    <tr>\n",
       "      <th>57</th>\n",
       "      <td>Ageremod</td>\n",
       "      <td>int64</td>\n",
       "      <td>1459</td>\n",
       "      <td>61</td>\n",
       "      <td>0</td>\n",
       "      <td>0</td>\n",
       "    </tr>\n",
       "    <tr>\n",
       "      <th>58</th>\n",
       "      <td>ExteriorCombined</td>\n",
       "      <td>float64</td>\n",
       "      <td>1458</td>\n",
       "      <td>5</td>\n",
       "      <td>1</td>\n",
       "      <td>0</td>\n",
       "    </tr>\n",
       "    <tr>\n",
       "      <th>59</th>\n",
       "      <td>MasVnrType_BrkFace</td>\n",
       "      <td>uint8</td>\n",
       "      <td>1459</td>\n",
       "      <td>2</td>\n",
       "      <td>0</td>\n",
       "      <td>0</td>\n",
       "    </tr>\n",
       "    <tr>\n",
       "      <th>60</th>\n",
       "      <td>MasVnrType_Stone</td>\n",
       "      <td>uint8</td>\n",
       "      <td>1459</td>\n",
       "      <td>2</td>\n",
       "      <td>0</td>\n",
       "      <td>0</td>\n",
       "    </tr>\n",
       "    <tr>\n",
       "      <th>61</th>\n",
       "      <td>Foundation_CBlock</td>\n",
       "      <td>uint8</td>\n",
       "      <td>1459</td>\n",
       "      <td>2</td>\n",
       "      <td>0</td>\n",
       "      <td>0</td>\n",
       "    </tr>\n",
       "    <tr>\n",
       "      <th>62</th>\n",
       "      <td>Foundation_PConc</td>\n",
       "      <td>uint8</td>\n",
       "      <td>1459</td>\n",
       "      <td>2</td>\n",
       "      <td>0</td>\n",
       "      <td>0</td>\n",
       "    </tr>\n",
       "    <tr>\n",
       "      <th>63</th>\n",
       "      <td>Foundation_Slab</td>\n",
       "      <td>uint8</td>\n",
       "      <td>1459</td>\n",
       "      <td>2</td>\n",
       "      <td>0</td>\n",
       "      <td>0</td>\n",
       "    </tr>\n",
       "    <tr>\n",
       "      <th>64</th>\n",
       "      <td>Foundation_Stone</td>\n",
       "      <td>uint8</td>\n",
       "      <td>1459</td>\n",
       "      <td>2</td>\n",
       "      <td>0</td>\n",
       "      <td>0</td>\n",
       "    </tr>\n",
       "    <tr>\n",
       "      <th>65</th>\n",
       "      <td>Foundation_Wood</td>\n",
       "      <td>uint8</td>\n",
       "      <td>1459</td>\n",
       "      <td>2</td>\n",
       "      <td>0</td>\n",
       "      <td>0</td>\n",
       "    </tr>\n",
       "    <tr>\n",
       "      <th>66</th>\n",
       "      <td>HasBasement</td>\n",
       "      <td>int64</td>\n",
       "      <td>1459</td>\n",
       "      <td>1</td>\n",
       "      <td>0</td>\n",
       "      <td>0</td>\n",
       "    </tr>\n",
       "    <tr>\n",
       "      <th>67</th>\n",
       "      <td>BsmtQualityScore</td>\n",
       "      <td>float64</td>\n",
       "      <td>1458</td>\n",
       "      <td>1225</td>\n",
       "      <td>1</td>\n",
       "      <td>0</td>\n",
       "    </tr>\n",
       "    <tr>\n",
       "      <th>68</th>\n",
       "      <td>Heating_GasA</td>\n",
       "      <td>int64</td>\n",
       "      <td>1459</td>\n",
       "      <td>2</td>\n",
       "      <td>0</td>\n",
       "      <td>0</td>\n",
       "    </tr>\n",
       "    <tr>\n",
       "      <th>69</th>\n",
       "      <td>Electrical_SBrkr</td>\n",
       "      <td>int64</td>\n",
       "      <td>1459</td>\n",
       "      <td>2</td>\n",
       "      <td>0</td>\n",
       "      <td>0</td>\n",
       "    </tr>\n",
       "    <tr>\n",
       "      <th>70</th>\n",
       "      <td>TotalBasementBaths</td>\n",
       "      <td>float64</td>\n",
       "      <td>1457</td>\n",
       "      <td>6</td>\n",
       "      <td>2</td>\n",
       "      <td>0</td>\n",
       "    </tr>\n",
       "    <tr>\n",
       "      <th>71</th>\n",
       "      <td>TotalBaths</td>\n",
       "      <td>float64</td>\n",
       "      <td>1459</td>\n",
       "      <td>9</td>\n",
       "      <td>0</td>\n",
       "      <td>0</td>\n",
       "    </tr>\n",
       "    <tr>\n",
       "      <th>72</th>\n",
       "      <td>GarageType_Attached</td>\n",
       "      <td>uint8</td>\n",
       "      <td>1459</td>\n",
       "      <td>2</td>\n",
       "      <td>0</td>\n",
       "      <td>0</td>\n",
       "    </tr>\n",
       "    <tr>\n",
       "      <th>73</th>\n",
       "      <td>GarageType_Detached</td>\n",
       "      <td>uint8</td>\n",
       "      <td>1459</td>\n",
       "      <td>2</td>\n",
       "      <td>0</td>\n",
       "      <td>0</td>\n",
       "    </tr>\n",
       "    <tr>\n",
       "      <th>74</th>\n",
       "      <td>GarageType_No Garage</td>\n",
       "      <td>uint8</td>\n",
       "      <td>1459</td>\n",
       "      <td>2</td>\n",
       "      <td>0</td>\n",
       "      <td>0</td>\n",
       "    </tr>\n",
       "    <tr>\n",
       "      <th>75</th>\n",
       "      <td>GarageType_Other</td>\n",
       "      <td>uint8</td>\n",
       "      <td>1459</td>\n",
       "      <td>2</td>\n",
       "      <td>0</td>\n",
       "      <td>0</td>\n",
       "    </tr>\n",
       "    <tr>\n",
       "      <th>76</th>\n",
       "      <td>GarageAge</td>\n",
       "      <td>float64</td>\n",
       "      <td>1459</td>\n",
       "      <td>98</td>\n",
       "      <td>0</td>\n",
       "      <td>0</td>\n",
       "    </tr>\n",
       "    <tr>\n",
       "      <th>77</th>\n",
       "      <td>PavedDrive_N</td>\n",
       "      <td>uint8</td>\n",
       "      <td>1459</td>\n",
       "      <td>2</td>\n",
       "      <td>0</td>\n",
       "      <td>0</td>\n",
       "    </tr>\n",
       "    <tr>\n",
       "      <th>78</th>\n",
       "      <td>PavedDrive_P</td>\n",
       "      <td>uint8</td>\n",
       "      <td>1459</td>\n",
       "      <td>2</td>\n",
       "      <td>0</td>\n",
       "      <td>0</td>\n",
       "    </tr>\n",
       "    <tr>\n",
       "      <th>79</th>\n",
       "      <td>PavedDrive_Y</td>\n",
       "      <td>uint8</td>\n",
       "      <td>1459</td>\n",
       "      <td>2</td>\n",
       "      <td>0</td>\n",
       "      <td>0</td>\n",
       "    </tr>\n",
       "    <tr>\n",
       "      <th>80</th>\n",
       "      <td>TotalPorchSF</td>\n",
       "      <td>int64</td>\n",
       "      <td>1459</td>\n",
       "      <td>290</td>\n",
       "      <td>0</td>\n",
       "      <td>0</td>\n",
       "    </tr>\n",
       "    <tr>\n",
       "      <th>81</th>\n",
       "      <td>AgeSold</td>\n",
       "      <td>int64</td>\n",
       "      <td>1459</td>\n",
       "      <td>5</td>\n",
       "      <td>0</td>\n",
       "      <td>0</td>\n",
       "    </tr>\n",
       "    <tr>\n",
       "      <th>82</th>\n",
       "      <td>SaleType_COD</td>\n",
       "      <td>uint8</td>\n",
       "      <td>1459</td>\n",
       "      <td>2</td>\n",
       "      <td>0</td>\n",
       "      <td>0</td>\n",
       "    </tr>\n",
       "    <tr>\n",
       "      <th>83</th>\n",
       "      <td>SaleType_CWD</td>\n",
       "      <td>uint8</td>\n",
       "      <td>1459</td>\n",
       "      <td>2</td>\n",
       "      <td>0</td>\n",
       "      <td>0</td>\n",
       "    </tr>\n",
       "    <tr>\n",
       "      <th>84</th>\n",
       "      <td>SaleType_Con</td>\n",
       "      <td>uint8</td>\n",
       "      <td>1459</td>\n",
       "      <td>2</td>\n",
       "      <td>0</td>\n",
       "      <td>0</td>\n",
       "    </tr>\n",
       "    <tr>\n",
       "      <th>85</th>\n",
       "      <td>SaleType_ConLD</td>\n",
       "      <td>uint8</td>\n",
       "      <td>1459</td>\n",
       "      <td>2</td>\n",
       "      <td>0</td>\n",
       "      <td>0</td>\n",
       "    </tr>\n",
       "    <tr>\n",
       "      <th>86</th>\n",
       "      <td>SaleType_ConLI</td>\n",
       "      <td>uint8</td>\n",
       "      <td>1459</td>\n",
       "      <td>2</td>\n",
       "      <td>0</td>\n",
       "      <td>0</td>\n",
       "    </tr>\n",
       "    <tr>\n",
       "      <th>87</th>\n",
       "      <td>SaleType_ConLw</td>\n",
       "      <td>uint8</td>\n",
       "      <td>1459</td>\n",
       "      <td>2</td>\n",
       "      <td>0</td>\n",
       "      <td>0</td>\n",
       "    </tr>\n",
       "    <tr>\n",
       "      <th>88</th>\n",
       "      <td>SaleType_New</td>\n",
       "      <td>uint8</td>\n",
       "      <td>1459</td>\n",
       "      <td>2</td>\n",
       "      <td>0</td>\n",
       "      <td>0</td>\n",
       "    </tr>\n",
       "    <tr>\n",
       "      <th>89</th>\n",
       "      <td>SaleType_Oth</td>\n",
       "      <td>uint8</td>\n",
       "      <td>1459</td>\n",
       "      <td>2</td>\n",
       "      <td>0</td>\n",
       "      <td>0</td>\n",
       "    </tr>\n",
       "    <tr>\n",
       "      <th>90</th>\n",
       "      <td>SaleType_WD</td>\n",
       "      <td>uint8</td>\n",
       "      <td>1459</td>\n",
       "      <td>2</td>\n",
       "      <td>0</td>\n",
       "      <td>0</td>\n",
       "    </tr>\n",
       "    <tr>\n",
       "      <th>91</th>\n",
       "      <td>Salecondition_Abnorml</td>\n",
       "      <td>uint8</td>\n",
       "      <td>1459</td>\n",
       "      <td>2</td>\n",
       "      <td>0</td>\n",
       "      <td>0</td>\n",
       "    </tr>\n",
       "    <tr>\n",
       "      <th>92</th>\n",
       "      <td>Salecondition_AdjLand</td>\n",
       "      <td>uint8</td>\n",
       "      <td>1459</td>\n",
       "      <td>2</td>\n",
       "      <td>0</td>\n",
       "      <td>0</td>\n",
       "    </tr>\n",
       "    <tr>\n",
       "      <th>93</th>\n",
       "      <td>Salecondition_Alloca</td>\n",
       "      <td>uint8</td>\n",
       "      <td>1459</td>\n",
       "      <td>2</td>\n",
       "      <td>0</td>\n",
       "      <td>0</td>\n",
       "    </tr>\n",
       "    <tr>\n",
       "      <th>94</th>\n",
       "      <td>Salecondition_Family</td>\n",
       "      <td>uint8</td>\n",
       "      <td>1459</td>\n",
       "      <td>2</td>\n",
       "      <td>0</td>\n",
       "      <td>0</td>\n",
       "    </tr>\n",
       "    <tr>\n",
       "      <th>95</th>\n",
       "      <td>Salecondition_Normal</td>\n",
       "      <td>uint8</td>\n",
       "      <td>1459</td>\n",
       "      <td>2</td>\n",
       "      <td>0</td>\n",
       "      <td>0</td>\n",
       "    </tr>\n",
       "    <tr>\n",
       "      <th>96</th>\n",
       "      <td>Salecondition_Partial</td>\n",
       "      <td>uint8</td>\n",
       "      <td>1459</td>\n",
       "      <td>2</td>\n",
       "      <td>0</td>\n",
       "      <td>0</td>\n",
       "    </tr>\n",
       "  </tbody>\n",
       "</table>\n",
       "</div>"
      ],
      "text/plain": [
       "                            column    dtype  instances  unique  missing_vals  \\\n",
       "0                               Id    int64       1459    1459             0   \n",
       "1                      LotFrontage  float64       1459     116             0   \n",
       "2                          LotArea  float64       1459    1106             0   \n",
       "3                     Neighborhood    int64       1459       3             0   \n",
       "4                      OverallQual    int64       1459      10             0   \n",
       "5                      OverallCond    int64       1459       9             0   \n",
       "6                         RoofMatl    int64       1459       2             0   \n",
       "7                       MasVnrArea  float64       1459     303             0   \n",
       "8                        ExterQual    int64       1459       4             0   \n",
       "9                        ExterCond    int64       1459       5             0   \n",
       "10                        BsmtQual    int64       1459       5             0   \n",
       "11                        BsmtCond    int64       1459       5             0   \n",
       "12                    BsmtExposure    int64       1459       5             0   \n",
       "13                       HeatingQC    int64       1459       5             0   \n",
       "14                      CentralAir    int64       1459       2             0   \n",
       "15                        1stFlrSF    int64       1459     789             0   \n",
       "16                        2ndFlrSF    int64       1459     407             0   \n",
       "17                       GrLivArea    int64       1459     879             0   \n",
       "18                    BedroomAbvGr    int64       1459       7             0   \n",
       "19                    KitchenAbvGr    int64       1459       3             0   \n",
       "20                     KitchenQual  float64       1458       4             1   \n",
       "21                    TotRmsAbvGrd    int64       1459      12             0   \n",
       "22                      Functional  float64       1457       7             2   \n",
       "23                      Fireplaces    int64       1459       5             0   \n",
       "24                     FireplaceQu    int64       1459       6             0   \n",
       "25                    GarageFinish    int64       1459       4             0   \n",
       "26                      GarageCars  float64       1458       6             1   \n",
       "27                      GarageArea  float64       1458     459             1   \n",
       "28                      GarageQual    int64       1459       5             0   \n",
       "29                      GarageCond    int64       1459       6             0   \n",
       "30                      WoodDeckSF    int64       1459     263             0   \n",
       "31                        PoolArea    int64       1459       7             0   \n",
       "32                         MiscVal    int64       1459      26             0   \n",
       "33            MSSubClass_1.5-STORY    uint8       1459       2             0   \n",
       "34  MSSubClass_2 FAMILY CONVERSION    uint8       1459       2             0   \n",
       "35              MSSubClass_2-STORY    uint8       1459       2             0   \n",
       "36            MSSubClass_2.5-STORY    uint8       1459       2             0   \n",
       "37               MSSubClass_DUPLEX    uint8       1459       2             0   \n",
       "38    MSSubClass_SPLIT/MULTI-LEVEL    uint8       1459       2             0   \n",
       "39                     MSZoning_FV    uint8       1459       2             0   \n",
       "40                     MSZoning_RH    uint8       1459       2             0   \n",
       "41                     MSZoning_RL    uint8       1459       2             0   \n",
       "42                     MSZoning_RM    uint8       1459       2             0   \n",
       "43                    LotShape_Reg    uint8       1459       2             0   \n",
       "44              LandContour_No Lvl    uint8       1459       2             0   \n",
       "45               LotConfig_CulDSac    uint8       1459       2             0   \n",
       "46                   LotConfig_FR2    uint8       1459       2             0   \n",
       "47                   LotConfig_FR3    uint8       1459       2             0   \n",
       "48                LotConfig_Inside    uint8       1459       2             0   \n",
       "49                LandSlope_No Gtl    uint8       1459       2             0   \n",
       "50                Street_Condition    uint8       1459       3             0   \n",
       "51              Railroad_Condition    uint8       1459       2             0   \n",
       "52       PositiveFeature_Condition    uint8       1459       3             0   \n",
       "53        BldgGroup_Doble Vivienda    uint8       1459       2             0   \n",
       "54    BldgGroup_Múltiples Unidades    uint8       1459       2             0   \n",
       "55   BldgGroup_Vivienda Individual    uint8       1459       2             0   \n",
       "56                             Age    int64       1459     106             0   \n",
       "57                        Ageremod    int64       1459      61             0   \n",
       "58                ExteriorCombined  float64       1458       5             1   \n",
       "59              MasVnrType_BrkFace    uint8       1459       2             0   \n",
       "60                MasVnrType_Stone    uint8       1459       2             0   \n",
       "61               Foundation_CBlock    uint8       1459       2             0   \n",
       "62                Foundation_PConc    uint8       1459       2             0   \n",
       "63                 Foundation_Slab    uint8       1459       2             0   \n",
       "64                Foundation_Stone    uint8       1459       2             0   \n",
       "65                 Foundation_Wood    uint8       1459       2             0   \n",
       "66                     HasBasement    int64       1459       1             0   \n",
       "67                BsmtQualityScore  float64       1458    1225             1   \n",
       "68                    Heating_GasA    int64       1459       2             0   \n",
       "69                Electrical_SBrkr    int64       1459       2             0   \n",
       "70              TotalBasementBaths  float64       1457       6             2   \n",
       "71                      TotalBaths  float64       1459       9             0   \n",
       "72             GarageType_Attached    uint8       1459       2             0   \n",
       "73             GarageType_Detached    uint8       1459       2             0   \n",
       "74            GarageType_No Garage    uint8       1459       2             0   \n",
       "75                GarageType_Other    uint8       1459       2             0   \n",
       "76                       GarageAge  float64       1459      98             0   \n",
       "77                    PavedDrive_N    uint8       1459       2             0   \n",
       "78                    PavedDrive_P    uint8       1459       2             0   \n",
       "79                    PavedDrive_Y    uint8       1459       2             0   \n",
       "80                    TotalPorchSF    int64       1459     290             0   \n",
       "81                         AgeSold    int64       1459       5             0   \n",
       "82                    SaleType_COD    uint8       1459       2             0   \n",
       "83                    SaleType_CWD    uint8       1459       2             0   \n",
       "84                    SaleType_Con    uint8       1459       2             0   \n",
       "85                  SaleType_ConLD    uint8       1459       2             0   \n",
       "86                  SaleType_ConLI    uint8       1459       2             0   \n",
       "87                  SaleType_ConLw    uint8       1459       2             0   \n",
       "88                    SaleType_New    uint8       1459       2             0   \n",
       "89                    SaleType_Oth    uint8       1459       2             0   \n",
       "90                     SaleType_WD    uint8       1459       2             0   \n",
       "91           Salecondition_Abnorml    uint8       1459       2             0   \n",
       "92           Salecondition_AdjLand    uint8       1459       2             0   \n",
       "93            Salecondition_Alloca    uint8       1459       2             0   \n",
       "94            Salecondition_Family    uint8       1459       2             0   \n",
       "95            Salecondition_Normal    uint8       1459       2             0   \n",
       "96           Salecondition_Partial    uint8       1459       2             0   \n",
       "\n",
       "    duplicates  \n",
       "0            0  \n",
       "1            0  \n",
       "2            0  \n",
       "3            0  \n",
       "4            0  \n",
       "5            0  \n",
       "6            0  \n",
       "7            0  \n",
       "8            0  \n",
       "9            0  \n",
       "10           0  \n",
       "11           0  \n",
       "12           0  \n",
       "13           0  \n",
       "14           0  \n",
       "15           0  \n",
       "16           0  \n",
       "17           0  \n",
       "18           0  \n",
       "19           0  \n",
       "20           0  \n",
       "21           0  \n",
       "22           0  \n",
       "23           0  \n",
       "24           0  \n",
       "25           0  \n",
       "26           0  \n",
       "27           0  \n",
       "28           0  \n",
       "29           0  \n",
       "30           0  \n",
       "31           0  \n",
       "32           0  \n",
       "33           0  \n",
       "34           0  \n",
       "35           0  \n",
       "36           0  \n",
       "37           0  \n",
       "38           0  \n",
       "39           0  \n",
       "40           0  \n",
       "41           0  \n",
       "42           0  \n",
       "43           0  \n",
       "44           0  \n",
       "45           0  \n",
       "46           0  \n",
       "47           0  \n",
       "48           0  \n",
       "49           0  \n",
       "50           0  \n",
       "51           0  \n",
       "52           0  \n",
       "53           0  \n",
       "54           0  \n",
       "55           0  \n",
       "56           0  \n",
       "57           0  \n",
       "58           0  \n",
       "59           0  \n",
       "60           0  \n",
       "61           0  \n",
       "62           0  \n",
       "63           0  \n",
       "64           0  \n",
       "65           0  \n",
       "66           0  \n",
       "67           0  \n",
       "68           0  \n",
       "69           0  \n",
       "70           0  \n",
       "71           0  \n",
       "72           0  \n",
       "73           0  \n",
       "74           0  \n",
       "75           0  \n",
       "76           0  \n",
       "77           0  \n",
       "78           0  \n",
       "79           0  \n",
       "80           0  \n",
       "81           0  \n",
       "82           0  \n",
       "83           0  \n",
       "84           0  \n",
       "85           0  \n",
       "86           0  \n",
       "87           0  \n",
       "88           0  \n",
       "89           0  \n",
       "90           0  \n",
       "91           0  \n",
       "92           0  \n",
       "93           0  \n",
       "94           0  \n",
       "95           0  \n",
       "96           0  "
      ]
     },
     "execution_count": 64,
     "metadata": {},
     "output_type": "execute_result"
    }
   ],
   "source": [
    "summary = [\n",
    "    [col, cleaned_data[col].dtype, cleaned_data[col].count(), cleaned_data[col].nunique(), cleaned_data[col].isnull().sum(), cleaned_data.duplicated().sum()]\n",
    "    for col in cleaned_data.columns\n",
    "]\n",
    "\n",
    "df_check = pd.DataFrame(summary, columns=['column', 'dtype', 'instances', 'unique', 'missing_vals', 'duplicates'])\n",
    "\n",
    "pd.set_option('display.max_rows', None)\n",
    "pd.set_option('display.max_columns', None)\n",
    "pd.set_option('display.precision', 3)\n",
    "\n",
    "df_check\n"
   ]
  },
  {
   "cell_type": "code",
   "execution_count": 65,
   "id": "a38f6ad3-9e6e-4a19-8bbb-10fb90ae7d01",
   "metadata": {
    "tags": []
   },
   "outputs": [],
   "source": [
    "cleaned_data.fillna(0, inplace=True)\n"
   ]
  },
  {
   "cell_type": "code",
   "execution_count": 66,
   "id": "e4377991-96e5-4de7-aef4-95356c7c636b",
   "metadata": {},
   "outputs": [],
   "source": [
    "cleaned_data = cleaned_data.drop(columns=['Fireplaces'])\n",
    "cleaned_data = cleaned_data.drop(columns=['GarageCars'])\n",
    "cleaned_data = cleaned_data.drop(columns=['GarageCond'])\n",
    "cleaned_data = cleaned_data.drop(columns=['MSZoning_RM'])\n",
    "cleaned_data = cleaned_data.drop(columns=['GarageType_Attached'])\n",
    "cleaned_data = cleaned_data.drop(columns=['GarageType_No Garage'])\n",
    "cleaned_data = cleaned_data.drop(columns=['PavedDrive_N'])\n",
    "cleaned_data = cleaned_data.drop(columns=['Salecondition_Partial'])\n"
   ]
  },
  {
   "cell_type": "code",
   "execution_count": 67,
   "id": "a8bf1568-cb37-4912-95d7-eaa285a9b373",
   "metadata": {},
   "outputs": [
    {
     "name": "stdout",
     "output_type": "stream",
     "text": [
      "El dataset se ha guardado en Data/test_2.csv\n"
     ]
    }
   ],
   "source": [
    "#Ruta para guardar el archivo CSV\n",
    "csv_path = \"Data/test_2.csv\"\n",
    "\n",
    "# Guardar el DataFrame como un archivo CSV\n",
    "cleaned_data.to_csv(csv_path, index=False)#\n",
    "\n",
    "print(f\"El dataset se ha guardado en {csv_path}\")"
   ]
  },
  {
   "cell_type": "code",
   "execution_count": 68,
   "id": "9350d277-d835-4687-bc8c-710a8ca4279f",
   "metadata": {
    "tags": []
   },
   "outputs": [
    {
     "name": "stdout",
     "output_type": "stream",
     "text": [
      "<class 'pandas.core.frame.DataFrame'>\n",
      "RangeIndex: 1459 entries, 0 to 1458\n",
      "Data columns (total 89 columns):\n",
      " #   Column                          Non-Null Count  Dtype  \n",
      "---  ------                          --------------  -----  \n",
      " 0   Id                              1459 non-null   int64  \n",
      " 1   LotFrontage                     1459 non-null   float64\n",
      " 2   LotArea                         1459 non-null   float64\n",
      " 3   Neighborhood                    1459 non-null   int64  \n",
      " 4   OverallQual                     1459 non-null   int64  \n",
      " 5   OverallCond                     1459 non-null   int64  \n",
      " 6   RoofMatl                        1459 non-null   int64  \n",
      " 7   MasVnrArea                      1459 non-null   float64\n",
      " 8   ExterQual                       1459 non-null   int64  \n",
      " 9   ExterCond                       1459 non-null   int64  \n",
      " 10  BsmtQual                        1459 non-null   int64  \n",
      " 11  BsmtCond                        1459 non-null   int64  \n",
      " 12  BsmtExposure                    1459 non-null   int64  \n",
      " 13  HeatingQC                       1459 non-null   int64  \n",
      " 14  CentralAir                      1459 non-null   int64  \n",
      " 15  1stFlrSF                        1459 non-null   int64  \n",
      " 16  2ndFlrSF                        1459 non-null   int64  \n",
      " 17  GrLivArea                       1459 non-null   int64  \n",
      " 18  BedroomAbvGr                    1459 non-null   int64  \n",
      " 19  KitchenAbvGr                    1459 non-null   int64  \n",
      " 20  KitchenQual                     1459 non-null   float64\n",
      " 21  TotRmsAbvGrd                    1459 non-null   int64  \n",
      " 22  Functional                      1459 non-null   float64\n",
      " 23  FireplaceQu                     1459 non-null   int64  \n",
      " 24  GarageFinish                    1459 non-null   int64  \n",
      " 25  GarageArea                      1459 non-null   float64\n",
      " 26  GarageQual                      1459 non-null   int64  \n",
      " 27  WoodDeckSF                      1459 non-null   int64  \n",
      " 28  PoolArea                        1459 non-null   int64  \n",
      " 29  MiscVal                         1459 non-null   int64  \n",
      " 30  MSSubClass_1.5-STORY            1459 non-null   uint8  \n",
      " 31  MSSubClass_2 FAMILY CONVERSION  1459 non-null   uint8  \n",
      " 32  MSSubClass_2-STORY              1459 non-null   uint8  \n",
      " 33  MSSubClass_2.5-STORY            1459 non-null   uint8  \n",
      " 34  MSSubClass_DUPLEX               1459 non-null   uint8  \n",
      " 35  MSSubClass_SPLIT/MULTI-LEVEL    1459 non-null   uint8  \n",
      " 36  MSZoning_FV                     1459 non-null   uint8  \n",
      " 37  MSZoning_RH                     1459 non-null   uint8  \n",
      " 38  MSZoning_RL                     1459 non-null   uint8  \n",
      " 39  LotShape_Reg                    1459 non-null   uint8  \n",
      " 40  LandContour_No Lvl              1459 non-null   uint8  \n",
      " 41  LotConfig_CulDSac               1459 non-null   uint8  \n",
      " 42  LotConfig_FR2                   1459 non-null   uint8  \n",
      " 43  LotConfig_FR3                   1459 non-null   uint8  \n",
      " 44  LotConfig_Inside                1459 non-null   uint8  \n",
      " 45  LandSlope_No Gtl                1459 non-null   uint8  \n",
      " 46  Street_Condition                1459 non-null   uint8  \n",
      " 47  Railroad_Condition              1459 non-null   uint8  \n",
      " 48  PositiveFeature_Condition       1459 non-null   uint8  \n",
      " 49  BldgGroup_Doble Vivienda        1459 non-null   uint8  \n",
      " 50  BldgGroup_Múltiples Unidades    1459 non-null   uint8  \n",
      " 51  BldgGroup_Vivienda Individual   1459 non-null   uint8  \n",
      " 52  Age                             1459 non-null   int64  \n",
      " 53  Ageremod                        1459 non-null   int64  \n",
      " 54  ExteriorCombined                1459 non-null   float64\n",
      " 55  MasVnrType_BrkFace              1459 non-null   uint8  \n",
      " 56  MasVnrType_Stone                1459 non-null   uint8  \n",
      " 57  Foundation_CBlock               1459 non-null   uint8  \n",
      " 58  Foundation_PConc                1459 non-null   uint8  \n",
      " 59  Foundation_Slab                 1459 non-null   uint8  \n",
      " 60  Foundation_Stone                1459 non-null   uint8  \n",
      " 61  Foundation_Wood                 1459 non-null   uint8  \n",
      " 62  HasBasement                     1459 non-null   int64  \n",
      " 63  BsmtQualityScore                1459 non-null   float64\n",
      " 64  Heating_GasA                    1459 non-null   int64  \n",
      " 65  Electrical_SBrkr                1459 non-null   int64  \n",
      " 66  TotalBasementBaths              1459 non-null   float64\n",
      " 67  TotalBaths                      1459 non-null   float64\n",
      " 68  GarageType_Detached             1459 non-null   uint8  \n",
      " 69  GarageType_Other                1459 non-null   uint8  \n",
      " 70  GarageAge                       1459 non-null   float64\n",
      " 71  PavedDrive_P                    1459 non-null   uint8  \n",
      " 72  PavedDrive_Y                    1459 non-null   uint8  \n",
      " 73  TotalPorchSF                    1459 non-null   int64  \n",
      " 74  AgeSold                         1459 non-null   int64  \n",
      " 75  SaleType_COD                    1459 non-null   uint8  \n",
      " 76  SaleType_CWD                    1459 non-null   uint8  \n",
      " 77  SaleType_Con                    1459 non-null   uint8  \n",
      " 78  SaleType_ConLD                  1459 non-null   uint8  \n",
      " 79  SaleType_ConLI                  1459 non-null   uint8  \n",
      " 80  SaleType_ConLw                  1459 non-null   uint8  \n",
      " 81  SaleType_New                    1459 non-null   uint8  \n",
      " 82  SaleType_Oth                    1459 non-null   uint8  \n",
      " 83  SaleType_WD                     1459 non-null   uint8  \n",
      " 84  Salecondition_Abnorml           1459 non-null   uint8  \n",
      " 85  Salecondition_AdjLand           1459 non-null   uint8  \n",
      " 86  Salecondition_Alloca            1459 non-null   uint8  \n",
      " 87  Salecondition_Family            1459 non-null   uint8  \n",
      " 88  Salecondition_Normal            1459 non-null   uint8  \n",
      "dtypes: float64(11), int64(31), uint8(47)\n",
      "memory usage: 545.8 KB\n"
     ]
    }
   ],
   "source": [
    "cleaned_data.info()"
   ]
  },
  {
   "cell_type": "code",
   "execution_count": null,
   "id": "7892d6c6-8bda-41c7-b90b-e6527dc2537f",
   "metadata": {},
   "outputs": [],
   "source": []
  }
 ],
 "metadata": {
  "kernelspec": {
   "display_name": "Python 3 (ipykernel)",
   "language": "python",
   "name": "python3"
  },
  "language_info": {
   "codemirror_mode": {
    "name": "ipython",
    "version": 3
   },
   "file_extension": ".py",
   "mimetype": "text/x-python",
   "name": "python",
   "nbconvert_exporter": "python",
   "pygments_lexer": "ipython3",
   "version": "3.11.4"
  }
 },
 "nbformat": 4,
 "nbformat_minor": 5
}
