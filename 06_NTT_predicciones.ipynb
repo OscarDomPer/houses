{
 "cells": [
  {
   "cell_type": "code",
   "execution_count": 5,
   "id": "09689b83-1fc8-4acd-b71a-f6c10ea93c54",
   "metadata": {
    "tags": []
   },
   "outputs": [],
   "source": [
    "import os\n",
    "import numpy as np\n",
    "import pandas as pd\n",
    "import joblib\n",
    "import pickle\n",
    "import matplotlib.pyplot as plt\n",
    "from tqdm import tqdm\n",
    "from sklearn.preprocessing import MinMaxScaler\n",
    "from sklearn.metrics import mean_squared_error, mean_squared_log_error, r2_score, make_scorer\n",
    "from sklearn.ensemble import RandomForestRegressor, GradientBoostingRegressor, StackingRegressor\n",
    "from sklearn.linear_model import Ridge\n",
    "from xgboost import XGBRegressor\n",
    "from lightgbm import LGBMRegressor\n",
    "from sklearn.neural_network import MLPRegressor\n",
    "from sklearn.model_selection import train_test_split, KFold, cross_val_score, GridSearchCV, RandomizedSearchCV\n"
   ]
  },
  {
   "cell_type": "markdown",
   "id": "f54d78db-893f-465b-af4c-7b55ba55c3d3",
   "metadata": {},
   "source": [
    "# PREDICCIONES DE LOS MEJORES MODELOS EN EL CONJUNTO DE PRUEBA"
   ]
  },
  {
   "cell_type": "code",
   "execution_count": null,
   "id": "a7a3cd53-0ce2-4834-a131-301305e87deb",
   "metadata": {},
   "outputs": [],
   "source": []
  },
  {
   "cell_type": "markdown",
   "id": "a9a7d84a-940c-429c-93ad-5dbd24120569",
   "metadata": {},
   "source": [
    "## Stacking"
   ]
  },
  {
   "cell_type": "code",
   "execution_count": 12,
   "id": "debd6fc5-01b9-4c73-897e-e54a1c4ef3dd",
   "metadata": {
    "tags": []
   },
   "outputs": [],
   "source": [
    "train = pd.read_csv(\"Data/train_2.csv\")\n",
    "test= pd.read_csv(\"Data/test_2.csv\")\n"
   ]
  },
  {
   "cell_type": "code",
   "execution_count": 13,
   "id": "c78a6818-5b81-4ecd-8078-fe36fe0352c2",
   "metadata": {
    "tags": []
   },
   "outputs": [
    {
     "name": "stdout",
     "output_type": "stream",
     "text": [
      "Empty DataFrame\n",
      "Columns: [Column, NaN Count]\n",
      "Index: []\n"
     ]
    }
   ],
   "source": [
    "# Verificar columnas con NaN en el conjunto de test\n",
    "nan_columns_test = test.columns[test.isna().any()].tolist()\n",
    "nan_counts = test[nan_columns_test].isna().sum()\n",
    "\n",
    "# Mostrar las columnas con NaN y su conteo\n",
    "nan_info = pd.DataFrame({'Column': nan_columns_test, 'NaN Count': nan_counts})\n",
    "print(nan_info)"
   ]
  },
  {
   "cell_type": "code",
   "execution_count": 15,
   "id": "e6c41ca6-69fd-4e1d-be97-e807abc47b30",
   "metadata": {
    "tags": []
   },
   "outputs": [
    {
     "name": "stdout",
     "output_type": "stream",
     "text": [
      "Predicciones guardadas en 'Data/submission_stacking.csv'\n"
     ]
    },
    {
     "name": "stderr",
     "output_type": "stream",
     "text": [
      "C:\\Users\\oscar\\anaconda3\\Lib\\site-packages\\xgboost\\core.py:160: UserWarning: [20:23:49] WARNING: C:\\buildkite-agent\\builds\\buildkite-windows-cpu-autoscaling-group-i-0750514818a16474a-1\\xgboost\\xgboost-ci-windows\\src\\learner.cc:742: \n",
      "Parameters: { \"lambda_\" } are not used.\n",
      "\n",
      "  warnings.warn(smsg, UserWarning)\n"
     ]
    }
   ],
   "source": [
    "# Cargar el scaler\n",
    "scaler = joblib.load('Data/minmax_scaler.pkl')\n",
    "\n",
    "# Separar características y variable objetivo\n",
    "X = train.drop(columns=['SalePrice'])\n",
    "y = train['SalePrice']\n",
    "\n",
    "# Normalización de los datos usando MinMaxScaler\n",
    "X_scaled = scaler.fit_transform(X)  # Ajustar y transformar el conjunto completo de entrenamiento\n",
    "X_test = test.drop(columns=['Id'])  # Eliminar la columna 'Id' del conjunto de test\n",
    "X_test_scaled = scaler.transform(X_test)  # Solo transformar el conjunto de prueba\n",
    "\n",
    "# Definir combinaciones de modelos base\n",
    "base_models_1 = [\n",
    "    ('random_forest', RandomForestRegressor(n_estimators=100, random_state=42)),\n",
    "    ('gradient_boosting', GradientBoostingRegressor(n_estimators=100, random_state=42)),\n",
    "    ('xgboost', XGBRegressor(n_estimators=100, random_state=42))\n",
    "]\n",
    "# Definir el metamodelo (meta_model_current) con los hiperparámetros optimizados\n",
    "meta_model_current = XGBRegressor(\n",
    "    n_estimators=300,\n",
    "    learning_rate=0.01,\n",
    "    max_depth=3,\n",
    "    subsample=0.7,\n",
    "    colsample_bytree=0.8,\n",
    "    lambda_=0,\n",
    "    gamma=1,\n",
    "    random_state=42\n",
    ")\n",
    "\n",
    "# Definir el modelo de stacking\n",
    "stacking_model = StackingRegressor(estimators=base_models_1, final_estimator=meta_model_current)\n",
    "\n",
    "# Ajustar el modelo de stacking en el conjunto de entrenamiento completo\n",
    "stacking_model.fit(X_scaled, y)\n",
    "\n",
    "# Realizar predicciones en el conjunto de test\n",
    "test_predictions = stacking_model.predict(X_test_scaled)\n",
    "\n",
    "# Crear un DataFrame para las predicciones\n",
    "submission = pd.DataFrame({\n",
    "    'Id': test['Id'],  # Usar la columna 'Id' del conjunto de test\n",
    "    'SalePrice': test_predictions\n",
    "})\n",
    "\n",
    "# Guardar las predicciones en un archivo CSV\n",
    "submission.to_csv('Data/submission_stacking.csv', index=False)\n",
    "\n",
    "print(\"Predicciones guardadas en 'Data/submission_stacking.csv'\")\n"
   ]
  },
  {
   "cell_type": "markdown",
   "id": "b6894968-fecc-4de1-9fdc-192de1487593",
   "metadata": {},
   "source": [
    "![Resultados para el stacking](Images/stacking.png)\n"
   ]
  },
  {
   "cell_type": "code",
   "execution_count": null,
   "id": "28672e80-2cab-4a80-b1c2-60b1f9bbfe04",
   "metadata": {},
   "outputs": [],
   "source": []
  },
  {
   "cell_type": "markdown",
   "id": "5291f6eb-b774-4992-bd09-98b198923437",
   "metadata": {},
   "source": [
    "## Gradient Boost"
   ]
  },
  {
   "cell_type": "code",
   "execution_count": 19,
   "id": "73d09162-ff98-4c18-bd6b-f7ff73c6a809",
   "metadata": {
    "tags": []
   },
   "outputs": [
    {
     "name": "stdout",
     "output_type": "stream",
     "text": [
      "Predicciones guardadas en 'Data/submission_gb.csv'\n"
     ]
    }
   ],
   "source": [
    "# Cargar los datos\n",
    "train = pd.read_csv(\"Data/train_2.csv\")\n",
    "test = pd.read_csv(\"Data/test_2.csv\")\n",
    "\n",
    "# Separar características y variable objetivo\n",
    "X = train.drop(columns=['SalePrice'])\n",
    "y = train['SalePrice']\n",
    "\n",
    "# Eliminar la columna 'Id' antes de pasar al modelo\n",
    "X_test = test.drop(columns=['Id'])\n",
    "\n",
    "# Definir el modelo con los mejores hiperparámetros encontrados\n",
    "gb_model = GradientBoostingRegressor(\n",
    "    n_estimators=2500,\n",
    "    learning_rate=0.01,\n",
    "    max_depth=4,\n",
    "    subsample=1.0,\n",
    "    max_features='sqrt',\n",
    "    random_state=42\n",
    ")\n",
    "\n",
    "# Ajustar el modelo en el conjunto de entrenamiento completo\n",
    "gb_model.fit(X, y)\n",
    "\n",
    "# Realizar predicciones en el conjunto de test sin escalar\n",
    "test_predictions = gb_model.predict(X_test)\n",
    "\n",
    "# Crear un DataFrame para las predicciones\n",
    "submission = pd.DataFrame({\n",
    "    'Id': test['Id'],  # Asegúrate de que la columna 'Id' esté presente en el conjunto de test\n",
    "    'SalePrice': test_predictions\n",
    "})\n",
    "\n",
    "# Guardar las predicciones en un archivo CSV\n",
    "submission.to_csv('Data/submission_gb.csv', index=False)\n",
    "\n",
    "print(\"Predicciones guardadas en 'Data/submission_gb.csv'\")\n"
   ]
  },
  {
   "attachments": {
    "9b6dbfe7-9181-4e8b-a1af-77beebd7a3fe.png": {
     "image/png": "[encoded data removed]"
    }
   },
   "cell_type": "markdown",
   "id": "c9d3bce4-e77d-430a-a3a9-05362e2d46cd",
   "metadata": {},
   "source": [
    "![image.png](attachment:9b6dbfe7-9181-4e8b-a1af-77beebd7a3fe.png)![Resultados para gradient](Images/gradient.png)\n"
   ]
  },
  {
   "cell_type": "code",
   "execution_count": null,
   "id": "f999d8f8-ffa9-4924-8f07-220774a6f5da",
   "metadata": {},
   "outputs": [],
   "source": []
  },
  {
   "cell_type": "markdown",
   "id": "e8c28fb9-1335-4546-b860-76ad46b6ed81",
   "metadata": {},
   "source": [
    "## XGBoost"
   ]
  },
  {
   "cell_type": "code",
   "execution_count": 16,
   "id": "f9e54949-7914-4c10-8205-a33883db9b51",
   "metadata": {},
   "outputs": [
    {
     "name": "stdout",
     "output_type": "stream",
     "text": [
      "Predicciones guardadas en 'Data/submission_xgb.csv'\n"
     ]
    }
   ],
   "source": [
    "# Cargar los datos\n",
    "train = pd.read_csv(\"Data/train_2.csv\")\n",
    "test = pd.read_csv(\"Data/test_2.csv\")\n",
    "\n",
    "# Separar características y variable objetivo\n",
    "X = train.drop(columns=['SalePrice'])\n",
    "y = train['SalePrice']\n",
    "\n",
    "# Eliminar la columna 'Id' antes de pasar al modelo\n",
    "X_test = test.drop(columns=['Id'])\n",
    "\n",
    "# Definir el modelo con los mejores hiperparámetros encontrados\n",
    "xgb_model = XGBRegressor(\n",
    "    n_estimators=2500,\n",
    "    learning_rate=0.015,\n",
    "    max_depth=3,\n",
    "    subsample=1.0,\n",
    "    colsample_bytree=0.3,\n",
    "    random_state=42\n",
    ")\n",
    "\n",
    "# Ajustar el modelo en el conjunto de entrenamiento completo\n",
    "xgb_model.fit(X, y)\n",
    "\n",
    "# Realizar predicciones en el conjunto de test sin escalar\n",
    "test_predictions = xgb_model.predict(X_test)\n",
    "\n",
    "# Crear un DataFrame para las predicciones\n",
    "submission = pd.DataFrame({\n",
    "    'Id': test['Id'],  # Asegúrate de que la columna 'Id' esté presente en el conjunto de test\n",
    "    'SalePrice': test_predictions\n",
    "})\n",
    "\n",
    "# Guardar las predicciones en un archivo CSV\n",
    "submission.to_csv('Data/submission_xgb.csv', index=False)\n",
    "\n",
    "print(\"Predicciones guardadas en 'Data/submission_xgb.csv'\")"
   ]
  },
  {
   "cell_type": "markdown",
   "id": "f3255466-1e31-48bb-9779-d9d9e7ee2c0d",
   "metadata": {
    "tags": []
   },
   "source": [
    "![Resultados para xgb](Images/xgb.png)\n"
   ]
  },
  {
   "cell_type": "code",
   "execution_count": null,
   "id": "8dbd78c0-a520-4e48-beb1-003e601e05bc",
   "metadata": {},
   "outputs": [],
   "source": []
  },
  {
   "cell_type": "markdown",
   "id": "089f0bfa-4559-4f0b-9efe-f29cc7b9204a",
   "metadata": {},
   "source": [
    "## Red Neuronal"
   ]
  },
  {
   "cell_type": "code",
   "execution_count": 4,
   "id": "51e515ed-349c-462a-8de1-502f98bf7c39",
   "metadata": {
    "tags": []
   },
   "outputs": [
    {
     "name": "stdout",
     "output_type": "stream",
     "text": [
      "Predicciones guardadas en 'Data/submission_neural_network.csv'\n"
     ]
    }
   ],
   "source": [
    "# Cargar los datos\n",
    "cleaned_data = pd.read_csv(\"Data/train_2.csv\")\n",
    "test_data = pd.read_csv(\"Data/test_2.csv\")\n",
    "\n",
    "# Separar las características y la variable objetivo\n",
    "X = cleaned_data.drop(columns=['SalePrice'])\n",
    "y = cleaned_data['SalePrice']\n",
    "\n",
    "# Normalización de los datos\n",
    "scaler = MinMaxScaler()\n",
    "X_scaled = scaler.fit_transform(X)  # Ajustar y transformar el conjunto completo de entrenamiento\n",
    "X_test_scaled = scaler.transform(test_data.drop(columns=['Id']))  # Solo transformar el conjunto de prueba sin 'Id'\n",
    "\n",
    "mlp_model = MLPRegressor(\n",
    "    hidden_layer_sizes=(128, 64),\n",
    "    activation='relu',\n",
    "    solver='adam',\n",
    "    alpha=0.001,\n",
    "    learning_rate='constant',\n",
    "    learning_rate_init=0.01,\n",
    "    max_iter=1000,\n",
    "    random_state=42\n",
    ")\n",
    "\n",
    "# Entrenar el modelo con el 100% de los datos de entrenamiento\n",
    "mlp_model.fit(X_scaled, y)\n",
    "\n",
    "# Hacer predicciones en el conjunto de test\n",
    "test_predictions = mlp_model.predict(X_test_scaled)\n",
    "\n",
    "# Crear un DataFrame para las predicciones\n",
    "submission = pd.DataFrame({\n",
    "    'Id': test_data['Id'],  # Asegúrate de que la columna 'Id' esté presente en el conjunto de test\n",
    "    'SalePrice': test_predictions\n",
    "})\n",
    "\n",
    "# Guardar las predicciones en un archivo CSV\n",
    "submission.to_csv('Data/submission_neural_network.csv', index=False)\n",
    "\n",
    "print(\"Predicciones guardadas en 'Data/submission_neural_network.csv'\")"
   ]
  },
  {
   "cell_type": "markdown",
   "id": "ad702217-ac7f-44f7-82a3-54bb0e44890d",
   "metadata": {},
   "source": [
    "![Resultados para xgb](Images/rede.png)\n"
   ]
  },
  {
   "cell_type": "code",
   "execution_count": null,
   "id": "f0f135f2-3745-4dfc-adf2-b1e218237622",
   "metadata": {},
   "outputs": [],
   "source": []
  },
  {
   "cell_type": "markdown",
   "id": "1615e18d-ca9c-42ba-ba2e-bcd61fd3e198",
   "metadata": {},
   "source": [
    "Los resultados son en general razonables, parece que los dos modelos que sobreajustaban en exceso (**GBT** y **XGB**) tienen un rendimiento algo superior a los que generalizaban mejor (**stacking** y **red**). De esto se puede concluir que los datos del conjunto de prueba son muy similares a los del de entrenamiento. Seguramente la **red neuronal** funcionaría mejor con datos menos homogéneos.\n"
   ]
  },
  {
   "cell_type": "code",
   "execution_count": null,
   "id": "fb8d6613-4259-402e-b285-4f52946a9d86",
   "metadata": {},
   "outputs": [],
   "source": []
  }
 ],
 "metadata": {
  "kernelspec": {
   "display_name": "Python 3 (ipykernel)",
   "language": "python",
   "name": "python3"
  },
  "language_info": {
   "codemirror_mode": {
    "name": "ipython",
    "version": 3
   },
   "file_extension": ".py",
   "mimetype": "text/x-python",
   "name": "python",
   "nbconvert_exporter": "python",
   "pygments_lexer": "ipython3",
   "version": "3.11.4"
  }
 },
 "nbformat": 4,
 "nbformat_minor": 5
}
